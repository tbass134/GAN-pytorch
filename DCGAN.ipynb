{
  "nbformat": 4,
  "nbformat_minor": 0,
  "metadata": {
    "colab": {
      "name": "GAN - Pytorch - CIFAR10.ipynb",
      "provenance": [],
      "collapsed_sections": [],
      "authorship_tag": "ABX9TyOIAxu5bLwUndExVCCO+eTq"
    },
    "kernelspec": {
      "name": "python3",
      "display_name": "Python 3"
    },
    "language_info": {
      "name": "python"
    },
    "accelerator": "GPU",
    "widgets": {
      "application/vnd.jupyter.widget-state+json": {
        "7af575a86ef34a3eaec047ba06fd6244": {
          "model_module": "@jupyter-widgets/controls",
          "model_name": "VBoxModel",
          "model_module_version": "1.5.0",
          "state": {
            "_view_name": "VBoxView",
            "_dom_classes": [],
            "_model_name": "VBoxModel",
            "_view_module": "@jupyter-widgets/controls",
            "_model_module_version": "1.5.0",
            "_view_count": null,
            "_view_module_version": "1.5.0",
            "box_style": "",
            "layout": "IPY_MODEL_f5acb1834a6e4eedb6e6ffca05f0865f",
            "_model_module": "@jupyter-widgets/controls",
            "children": [
              "IPY_MODEL_451dfa7773a243f18181946afa2834ff",
              "IPY_MODEL_3a93550d75874b8fa7c4c76644eb0cbb"
            ]
          }
        },
        "f5acb1834a6e4eedb6e6ffca05f0865f": {
          "model_module": "@jupyter-widgets/base",
          "model_name": "LayoutModel",
          "model_module_version": "1.2.0",
          "state": {
            "_view_name": "LayoutView",
            "grid_template_rows": null,
            "right": null,
            "justify_content": null,
            "_view_module": "@jupyter-widgets/base",
            "overflow": null,
            "_model_module_version": "1.2.0",
            "_view_count": null,
            "flex_flow": null,
            "width": null,
            "min_width": null,
            "border": null,
            "align_items": null,
            "bottom": null,
            "_model_module": "@jupyter-widgets/base",
            "top": null,
            "grid_column": null,
            "overflow_y": null,
            "overflow_x": null,
            "grid_auto_flow": null,
            "grid_area": null,
            "grid_template_columns": null,
            "flex": null,
            "_model_name": "LayoutModel",
            "justify_items": null,
            "grid_row": null,
            "max_height": null,
            "align_content": null,
            "visibility": null,
            "align_self": null,
            "height": null,
            "min_height": null,
            "padding": null,
            "grid_auto_rows": null,
            "grid_gap": null,
            "max_width": null,
            "order": null,
            "_view_module_version": "1.2.0",
            "grid_template_areas": null,
            "object_position": null,
            "object_fit": null,
            "grid_auto_columns": null,
            "margin": null,
            "display": null,
            "left": null
          }
        },
        "451dfa7773a243f18181946afa2834ff": {
          "model_module": "@jupyter-widgets/controls",
          "model_name": "LabelModel",
          "model_module_version": "1.5.0",
          "state": {
            "_view_name": "LabelView",
            "style": "IPY_MODEL_3532556cc83d4d0ea1486d5fd0b7838f",
            "_dom_classes": [],
            "description": "",
            "_model_name": "LabelModel",
            "placeholder": "​",
            "_view_module": "@jupyter-widgets/controls",
            "_model_module_version": "1.5.0",
            "value": " 7.59MB of 7.59MB uploaded (0.00MB deduped)\r",
            "_view_count": null,
            "_view_module_version": "1.5.0",
            "description_tooltip": null,
            "_model_module": "@jupyter-widgets/controls",
            "layout": "IPY_MODEL_61643b72f86d4286b9acdd9fd94c8a0e"
          }
        },
        "3a93550d75874b8fa7c4c76644eb0cbb": {
          "model_module": "@jupyter-widgets/controls",
          "model_name": "FloatProgressModel",
          "model_module_version": "1.5.0",
          "state": {
            "_view_name": "ProgressView",
            "style": "IPY_MODEL_2eee78ee652f4f75b17ac0f2eeeb608c",
            "_dom_classes": [],
            "description": "",
            "_model_name": "FloatProgressModel",
            "bar_style": "",
            "max": 1,
            "_view_module": "@jupyter-widgets/controls",
            "_model_module_version": "1.5.0",
            "value": 1,
            "_view_count": null,
            "_view_module_version": "1.5.0",
            "orientation": "horizontal",
            "min": 0,
            "description_tooltip": null,
            "_model_module": "@jupyter-widgets/controls",
            "layout": "IPY_MODEL_a5f750fa33524c008e01a520c34cdfba"
          }
        },
        "3532556cc83d4d0ea1486d5fd0b7838f": {
          "model_module": "@jupyter-widgets/controls",
          "model_name": "DescriptionStyleModel",
          "model_module_version": "1.5.0",
          "state": {
            "_view_name": "StyleView",
            "_model_name": "DescriptionStyleModel",
            "description_width": "",
            "_view_module": "@jupyter-widgets/base",
            "_model_module_version": "1.5.0",
            "_view_count": null,
            "_view_module_version": "1.2.0",
            "_model_module": "@jupyter-widgets/controls"
          }
        },
        "61643b72f86d4286b9acdd9fd94c8a0e": {
          "model_module": "@jupyter-widgets/base",
          "model_name": "LayoutModel",
          "model_module_version": "1.2.0",
          "state": {
            "_view_name": "LayoutView",
            "grid_template_rows": null,
            "right": null,
            "justify_content": null,
            "_view_module": "@jupyter-widgets/base",
            "overflow": null,
            "_model_module_version": "1.2.0",
            "_view_count": null,
            "flex_flow": null,
            "width": null,
            "min_width": null,
            "border": null,
            "align_items": null,
            "bottom": null,
            "_model_module": "@jupyter-widgets/base",
            "top": null,
            "grid_column": null,
            "overflow_y": null,
            "overflow_x": null,
            "grid_auto_flow": null,
            "grid_area": null,
            "grid_template_columns": null,
            "flex": null,
            "_model_name": "LayoutModel",
            "justify_items": null,
            "grid_row": null,
            "max_height": null,
            "align_content": null,
            "visibility": null,
            "align_self": null,
            "height": null,
            "min_height": null,
            "padding": null,
            "grid_auto_rows": null,
            "grid_gap": null,
            "max_width": null,
            "order": null,
            "_view_module_version": "1.2.0",
            "grid_template_areas": null,
            "object_position": null,
            "object_fit": null,
            "grid_auto_columns": null,
            "margin": null,
            "display": null,
            "left": null
          }
        },
        "2eee78ee652f4f75b17ac0f2eeeb608c": {
          "model_module": "@jupyter-widgets/controls",
          "model_name": "ProgressStyleModel",
          "model_module_version": "1.5.0",
          "state": {
            "_view_name": "StyleView",
            "_model_name": "ProgressStyleModel",
            "description_width": "",
            "_view_module": "@jupyter-widgets/base",
            "_model_module_version": "1.5.0",
            "_view_count": null,
            "_view_module_version": "1.2.0",
            "bar_color": null,
            "_model_module": "@jupyter-widgets/controls"
          }
        },
        "a5f750fa33524c008e01a520c34cdfba": {
          "model_module": "@jupyter-widgets/base",
          "model_name": "LayoutModel",
          "model_module_version": "1.2.0",
          "state": {
            "_view_name": "LayoutView",
            "grid_template_rows": null,
            "right": null,
            "justify_content": null,
            "_view_module": "@jupyter-widgets/base",
            "overflow": null,
            "_model_module_version": "1.2.0",
            "_view_count": null,
            "flex_flow": null,
            "width": null,
            "min_width": null,
            "border": null,
            "align_items": null,
            "bottom": null,
            "_model_module": "@jupyter-widgets/base",
            "top": null,
            "grid_column": null,
            "overflow_y": null,
            "overflow_x": null,
            "grid_auto_flow": null,
            "grid_area": null,
            "grid_template_columns": null,
            "flex": null,
            "_model_name": "LayoutModel",
            "justify_items": null,
            "grid_row": null,
            "max_height": null,
            "align_content": null,
            "visibility": null,
            "align_self": null,
            "height": null,
            "min_height": null,
            "padding": null,
            "grid_auto_rows": null,
            "grid_gap": null,
            "max_width": null,
            "order": null,
            "_view_module_version": "1.2.0",
            "grid_template_areas": null,
            "object_position": null,
            "object_fit": null,
            "grid_auto_columns": null,
            "margin": null,
            "display": null,
            "left": null
          }
        },
        "0ef320e053c24c82abc687acb776db3b": {
          "model_module": "@jupyter-widgets/controls",
          "model_name": "HBoxModel",
          "model_module_version": "1.5.0",
          "state": {
            "_view_name": "HBoxView",
            "_dom_classes": [],
            "_model_name": "HBoxModel",
            "_view_module": "@jupyter-widgets/controls",
            "_model_module_version": "1.5.0",
            "_view_count": null,
            "_view_module_version": "1.5.0",
            "box_style": "",
            "layout": "IPY_MODEL_c2e93b21c7e144748047aac31bc4866b",
            "_model_module": "@jupyter-widgets/controls",
            "children": [
              "IPY_MODEL_aea8532dd88946e984ef0f60ac4313e9",
              "IPY_MODEL_0ac4eeda089c4359bd95f58d0acc9221",
              "IPY_MODEL_a8b63b68e9d44b9ea12348129dd15932"
            ]
          }
        },
        "c2e93b21c7e144748047aac31bc4866b": {
          "model_module": "@jupyter-widgets/base",
          "model_name": "LayoutModel",
          "model_module_version": "1.2.0",
          "state": {
            "_view_name": "LayoutView",
            "grid_template_rows": null,
            "right": null,
            "justify_content": null,
            "_view_module": "@jupyter-widgets/base",
            "overflow": null,
            "_model_module_version": "1.2.0",
            "_view_count": null,
            "flex_flow": null,
            "width": null,
            "min_width": null,
            "border": null,
            "align_items": null,
            "bottom": null,
            "_model_module": "@jupyter-widgets/base",
            "top": null,
            "grid_column": null,
            "overflow_y": null,
            "overflow_x": null,
            "grid_auto_flow": null,
            "grid_area": null,
            "grid_template_columns": null,
            "flex": null,
            "_model_name": "LayoutModel",
            "justify_items": null,
            "grid_row": null,
            "max_height": null,
            "align_content": null,
            "visibility": null,
            "align_self": null,
            "height": null,
            "min_height": null,
            "padding": null,
            "grid_auto_rows": null,
            "grid_gap": null,
            "max_width": null,
            "order": null,
            "_view_module_version": "1.2.0",
            "grid_template_areas": null,
            "object_position": null,
            "object_fit": null,
            "grid_auto_columns": null,
            "margin": null,
            "display": null,
            "left": null
          }
        },
        "aea8532dd88946e984ef0f60ac4313e9": {
          "model_module": "@jupyter-widgets/controls",
          "model_name": "HTMLModel",
          "model_module_version": "1.5.0",
          "state": {
            "_view_name": "HTMLView",
            "style": "IPY_MODEL_8bfcdca1993f44a19cfbe7a090d88f14",
            "_dom_classes": [],
            "description": "",
            "_model_name": "HTMLModel",
            "placeholder": "​",
            "_view_module": "@jupyter-widgets/controls",
            "_model_module_version": "1.5.0",
            "value": "",
            "_view_count": null,
            "_view_module_version": "1.5.0",
            "description_tooltip": null,
            "_model_module": "@jupyter-widgets/controls",
            "layout": "IPY_MODEL_0012489f979744f19034711d67fedebe"
          }
        },
        "0ac4eeda089c4359bd95f58d0acc9221": {
          "model_module": "@jupyter-widgets/controls",
          "model_name": "FloatProgressModel",
          "model_module_version": "1.5.0",
          "state": {
            "_view_name": "ProgressView",
            "style": "IPY_MODEL_2159944e717d4a67b047ddd50ebb5a63",
            "_dom_classes": [],
            "description": "",
            "_model_name": "FloatProgressModel",
            "bar_style": "success",
            "max": 170498071,
            "_view_module": "@jupyter-widgets/controls",
            "_model_module_version": "1.5.0",
            "value": 170498071,
            "_view_count": null,
            "_view_module_version": "1.5.0",
            "orientation": "horizontal",
            "min": 0,
            "description_tooltip": null,
            "_model_module": "@jupyter-widgets/controls",
            "layout": "IPY_MODEL_34bda9ccd1754368b28bda90862b8f40"
          }
        },
        "a8b63b68e9d44b9ea12348129dd15932": {
          "model_module": "@jupyter-widgets/controls",
          "model_name": "HTMLModel",
          "model_module_version": "1.5.0",
          "state": {
            "_view_name": "HTMLView",
            "style": "IPY_MODEL_99210dc450154862934c9cfbe5882e7d",
            "_dom_classes": [],
            "description": "",
            "_model_name": "HTMLModel",
            "placeholder": "​",
            "_view_module": "@jupyter-widgets/controls",
            "_model_module_version": "1.5.0",
            "value": " 170499072/? [00:05&lt;00:00, 31222725.83it/s]",
            "_view_count": null,
            "_view_module_version": "1.5.0",
            "description_tooltip": null,
            "_model_module": "@jupyter-widgets/controls",
            "layout": "IPY_MODEL_93b17309bdec4d0c8d5d03a504c79a5e"
          }
        },
        "8bfcdca1993f44a19cfbe7a090d88f14": {
          "model_module": "@jupyter-widgets/controls",
          "model_name": "DescriptionStyleModel",
          "model_module_version": "1.5.0",
          "state": {
            "_view_name": "StyleView",
            "_model_name": "DescriptionStyleModel",
            "description_width": "",
            "_view_module": "@jupyter-widgets/base",
            "_model_module_version": "1.5.0",
            "_view_count": null,
            "_view_module_version": "1.2.0",
            "_model_module": "@jupyter-widgets/controls"
          }
        },
        "0012489f979744f19034711d67fedebe": {
          "model_module": "@jupyter-widgets/base",
          "model_name": "LayoutModel",
          "model_module_version": "1.2.0",
          "state": {
            "_view_name": "LayoutView",
            "grid_template_rows": null,
            "right": null,
            "justify_content": null,
            "_view_module": "@jupyter-widgets/base",
            "overflow": null,
            "_model_module_version": "1.2.0",
            "_view_count": null,
            "flex_flow": null,
            "width": null,
            "min_width": null,
            "border": null,
            "align_items": null,
            "bottom": null,
            "_model_module": "@jupyter-widgets/base",
            "top": null,
            "grid_column": null,
            "overflow_y": null,
            "overflow_x": null,
            "grid_auto_flow": null,
            "grid_area": null,
            "grid_template_columns": null,
            "flex": null,
            "_model_name": "LayoutModel",
            "justify_items": null,
            "grid_row": null,
            "max_height": null,
            "align_content": null,
            "visibility": null,
            "align_self": null,
            "height": null,
            "min_height": null,
            "padding": null,
            "grid_auto_rows": null,
            "grid_gap": null,
            "max_width": null,
            "order": null,
            "_view_module_version": "1.2.0",
            "grid_template_areas": null,
            "object_position": null,
            "object_fit": null,
            "grid_auto_columns": null,
            "margin": null,
            "display": null,
            "left": null
          }
        },
        "2159944e717d4a67b047ddd50ebb5a63": {
          "model_module": "@jupyter-widgets/controls",
          "model_name": "ProgressStyleModel",
          "model_module_version": "1.5.0",
          "state": {
            "_view_name": "StyleView",
            "_model_name": "ProgressStyleModel",
            "description_width": "",
            "_view_module": "@jupyter-widgets/base",
            "_model_module_version": "1.5.0",
            "_view_count": null,
            "_view_module_version": "1.2.0",
            "bar_color": null,
            "_model_module": "@jupyter-widgets/controls"
          }
        },
        "34bda9ccd1754368b28bda90862b8f40": {
          "model_module": "@jupyter-widgets/base",
          "model_name": "LayoutModel",
          "model_module_version": "1.2.0",
          "state": {
            "_view_name": "LayoutView",
            "grid_template_rows": null,
            "right": null,
            "justify_content": null,
            "_view_module": "@jupyter-widgets/base",
            "overflow": null,
            "_model_module_version": "1.2.0",
            "_view_count": null,
            "flex_flow": null,
            "width": null,
            "min_width": null,
            "border": null,
            "align_items": null,
            "bottom": null,
            "_model_module": "@jupyter-widgets/base",
            "top": null,
            "grid_column": null,
            "overflow_y": null,
            "overflow_x": null,
            "grid_auto_flow": null,
            "grid_area": null,
            "grid_template_columns": null,
            "flex": null,
            "_model_name": "LayoutModel",
            "justify_items": null,
            "grid_row": null,
            "max_height": null,
            "align_content": null,
            "visibility": null,
            "align_self": null,
            "height": null,
            "min_height": null,
            "padding": null,
            "grid_auto_rows": null,
            "grid_gap": null,
            "max_width": null,
            "order": null,
            "_view_module_version": "1.2.0",
            "grid_template_areas": null,
            "object_position": null,
            "object_fit": null,
            "grid_auto_columns": null,
            "margin": null,
            "display": null,
            "left": null
          }
        },
        "99210dc450154862934c9cfbe5882e7d": {
          "model_module": "@jupyter-widgets/controls",
          "model_name": "DescriptionStyleModel",
          "model_module_version": "1.5.0",
          "state": {
            "_view_name": "StyleView",
            "_model_name": "DescriptionStyleModel",
            "description_width": "",
            "_view_module": "@jupyter-widgets/base",
            "_model_module_version": "1.5.0",
            "_view_count": null,
            "_view_module_version": "1.2.0",
            "_model_module": "@jupyter-widgets/controls"
          }
        },
        "93b17309bdec4d0c8d5d03a504c79a5e": {
          "model_module": "@jupyter-widgets/base",
          "model_name": "LayoutModel",
          "model_module_version": "1.2.0",
          "state": {
            "_view_name": "LayoutView",
            "grid_template_rows": null,
            "right": null,
            "justify_content": null,
            "_view_module": "@jupyter-widgets/base",
            "overflow": null,
            "_model_module_version": "1.2.0",
            "_view_count": null,
            "flex_flow": null,
            "width": null,
            "min_width": null,
            "border": null,
            "align_items": null,
            "bottom": null,
            "_model_module": "@jupyter-widgets/base",
            "top": null,
            "grid_column": null,
            "overflow_y": null,
            "overflow_x": null,
            "grid_auto_flow": null,
            "grid_area": null,
            "grid_template_columns": null,
            "flex": null,
            "_model_name": "LayoutModel",
            "justify_items": null,
            "grid_row": null,
            "max_height": null,
            "align_content": null,
            "visibility": null,
            "align_self": null,
            "height": null,
            "min_height": null,
            "padding": null,
            "grid_auto_rows": null,
            "grid_gap": null,
            "max_width": null,
            "order": null,
            "_view_module_version": "1.2.0",
            "grid_template_areas": null,
            "object_position": null,
            "object_fit": null,
            "grid_auto_columns": null,
            "margin": null,
            "display": null,
            "left": null
          }
        }
      }
    }
  },
  "cells": [
    {
      "cell_type": "code",
      "metadata": {
        "id": "FRjXmllL4TjO"
      },
      "source": [
        "import torch\n",
        "import torch.nn as nn\n",
        "import torch.optim as optim\n",
        "import torchvision\n",
        "import torchvision.datasets as datasets\n",
        "from torch.utils.data import DataLoader\n",
        "import torchvision.transforms as transforms"
      ],
      "execution_count": null,
      "outputs": []
    },
    {
      "cell_type": "code",
      "metadata": {
        "id": "4tDv6byKQht0",
        "colab": {
          "base_uri": "https://localhost:8080/"
        },
        "outputId": "25e5bc97-ff7a-40bd-c0b4-91a63d66e646"
      },
      "source": [
        "!pip install wandb"
      ],
      "execution_count": null,
      "outputs": [
        {
          "output_type": "stream",
          "name": "stdout",
          "text": [
            "Collecting wandb\n",
            "  Downloading wandb-0.12.6-py2.py3-none-any.whl (1.7 MB)\n",
            "\u001b[?25l\r\u001b[K     |▏                               | 10 kB 25.0 MB/s eta 0:00:01\r\u001b[K     |▍                               | 20 kB 31.3 MB/s eta 0:00:01\r\u001b[K     |▋                               | 30 kB 25.3 MB/s eta 0:00:01\r\u001b[K     |▉                               | 40 kB 20.7 MB/s eta 0:00:01\r\u001b[K     |█                               | 51 kB 15.7 MB/s eta 0:00:01\r\u001b[K     |█▏                              | 61 kB 11.1 MB/s eta 0:00:01\r\u001b[K     |█▍                              | 71 kB 12.2 MB/s eta 0:00:01\r\u001b[K     |█▋                              | 81 kB 13.3 MB/s eta 0:00:01\r\u001b[K     |█▊                              | 92 kB 12.3 MB/s eta 0:00:01\r\u001b[K     |██                              | 102 kB 13.2 MB/s eta 0:00:01\r\u001b[K     |██▏                             | 112 kB 13.2 MB/s eta 0:00:01\r\u001b[K     |██▍                             | 122 kB 13.2 MB/s eta 0:00:01\r\u001b[K     |██▌                             | 133 kB 13.2 MB/s eta 0:00:01\r\u001b[K     |██▊                             | 143 kB 13.2 MB/s eta 0:00:01\r\u001b[K     |███                             | 153 kB 13.2 MB/s eta 0:00:01\r\u001b[K     |███▏                            | 163 kB 13.2 MB/s eta 0:00:01\r\u001b[K     |███▎                            | 174 kB 13.2 MB/s eta 0:00:01\r\u001b[K     |███▌                            | 184 kB 13.2 MB/s eta 0:00:01\r\u001b[K     |███▊                            | 194 kB 13.2 MB/s eta 0:00:01\r\u001b[K     |████                            | 204 kB 13.2 MB/s eta 0:00:01\r\u001b[K     |████                            | 215 kB 13.2 MB/s eta 0:00:01\r\u001b[K     |████▎                           | 225 kB 13.2 MB/s eta 0:00:01\r\u001b[K     |████▌                           | 235 kB 13.2 MB/s eta 0:00:01\r\u001b[K     |████▊                           | 245 kB 13.2 MB/s eta 0:00:01\r\u001b[K     |████▉                           | 256 kB 13.2 MB/s eta 0:00:01\r\u001b[K     |█████                           | 266 kB 13.2 MB/s eta 0:00:01\r\u001b[K     |█████▎                          | 276 kB 13.2 MB/s eta 0:00:01\r\u001b[K     |█████▌                          | 286 kB 13.2 MB/s eta 0:00:01\r\u001b[K     |█████▋                          | 296 kB 13.2 MB/s eta 0:00:01\r\u001b[K     |█████▉                          | 307 kB 13.2 MB/s eta 0:00:01\r\u001b[K     |██████                          | 317 kB 13.2 MB/s eta 0:00:01\r\u001b[K     |██████▎                         | 327 kB 13.2 MB/s eta 0:00:01\r\u001b[K     |██████▍                         | 337 kB 13.2 MB/s eta 0:00:01\r\u001b[K     |██████▋                         | 348 kB 13.2 MB/s eta 0:00:01\r\u001b[K     |██████▉                         | 358 kB 13.2 MB/s eta 0:00:01\r\u001b[K     |███████                         | 368 kB 13.2 MB/s eta 0:00:01\r\u001b[K     |███████▏                        | 378 kB 13.2 MB/s eta 0:00:01\r\u001b[K     |███████▍                        | 389 kB 13.2 MB/s eta 0:00:01\r\u001b[K     |███████▋                        | 399 kB 13.2 MB/s eta 0:00:01\r\u001b[K     |███████▉                        | 409 kB 13.2 MB/s eta 0:00:01\r\u001b[K     |████████                        | 419 kB 13.2 MB/s eta 0:00:01\r\u001b[K     |████████▏                       | 430 kB 13.2 MB/s eta 0:00:01\r\u001b[K     |████████▍                       | 440 kB 13.2 MB/s eta 0:00:01\r\u001b[K     |████████▋                       | 450 kB 13.2 MB/s eta 0:00:01\r\u001b[K     |████████▊                       | 460 kB 13.2 MB/s eta 0:00:01\r\u001b[K     |█████████                       | 471 kB 13.2 MB/s eta 0:00:01\r\u001b[K     |█████████▏                      | 481 kB 13.2 MB/s eta 0:00:01\r\u001b[K     |█████████▍                      | 491 kB 13.2 MB/s eta 0:00:01\r\u001b[K     |█████████▌                      | 501 kB 13.2 MB/s eta 0:00:01\r\u001b[K     |█████████▊                      | 512 kB 13.2 MB/s eta 0:00:01\r\u001b[K     |██████████                      | 522 kB 13.2 MB/s eta 0:00:01\r\u001b[K     |██████████▏                     | 532 kB 13.2 MB/s eta 0:00:01\r\u001b[K     |██████████▎                     | 542 kB 13.2 MB/s eta 0:00:01\r\u001b[K     |██████████▌                     | 552 kB 13.2 MB/s eta 0:00:01\r\u001b[K     |██████████▊                     | 563 kB 13.2 MB/s eta 0:00:01\r\u001b[K     |███████████                     | 573 kB 13.2 MB/s eta 0:00:01\r\u001b[K     |███████████                     | 583 kB 13.2 MB/s eta 0:00:01\r\u001b[K     |███████████▎                    | 593 kB 13.2 MB/s eta 0:00:01\r\u001b[K     |███████████▌                    | 604 kB 13.2 MB/s eta 0:00:01\r\u001b[K     |███████████▊                    | 614 kB 13.2 MB/s eta 0:00:01\r\u001b[K     |███████████▉                    | 624 kB 13.2 MB/s eta 0:00:01\r\u001b[K     |████████████                    | 634 kB 13.2 MB/s eta 0:00:01\r\u001b[K     |████████████▎                   | 645 kB 13.2 MB/s eta 0:00:01\r\u001b[K     |████████████▌                   | 655 kB 13.2 MB/s eta 0:00:01\r\u001b[K     |████████████▋                   | 665 kB 13.2 MB/s eta 0:00:01\r\u001b[K     |████████████▉                   | 675 kB 13.2 MB/s eta 0:00:01\r\u001b[K     |█████████████                   | 686 kB 13.2 MB/s eta 0:00:01\r\u001b[K     |█████████████▎                  | 696 kB 13.2 MB/s eta 0:00:01\r\u001b[K     |█████████████▍                  | 706 kB 13.2 MB/s eta 0:00:01\r\u001b[K     |█████████████▋                  | 716 kB 13.2 MB/s eta 0:00:01\r\u001b[K     |█████████████▉                  | 727 kB 13.2 MB/s eta 0:00:01\r\u001b[K     |██████████████                  | 737 kB 13.2 MB/s eta 0:00:01\r\u001b[K     |██████████████▏                 | 747 kB 13.2 MB/s eta 0:00:01\r\u001b[K     |██████████████▍                 | 757 kB 13.2 MB/s eta 0:00:01\r\u001b[K     |██████████████▋                 | 768 kB 13.2 MB/s eta 0:00:01\r\u001b[K     |██████████████▉                 | 778 kB 13.2 MB/s eta 0:00:01\r\u001b[K     |███████████████                 | 788 kB 13.2 MB/s eta 0:00:01\r\u001b[K     |███████████████▏                | 798 kB 13.2 MB/s eta 0:00:01\r\u001b[K     |███████████████▍                | 808 kB 13.2 MB/s eta 0:00:01\r\u001b[K     |███████████████▋                | 819 kB 13.2 MB/s eta 0:00:01\r\u001b[K     |███████████████▊                | 829 kB 13.2 MB/s eta 0:00:01\r\u001b[K     |████████████████                | 839 kB 13.2 MB/s eta 0:00:01\r\u001b[K     |████████████████▏               | 849 kB 13.2 MB/s eta 0:00:01\r\u001b[K     |████████████████▍               | 860 kB 13.2 MB/s eta 0:00:01\r\u001b[K     |████████████████▌               | 870 kB 13.2 MB/s eta 0:00:01\r\u001b[K     |████████████████▊               | 880 kB 13.2 MB/s eta 0:00:01\r\u001b[K     |█████████████████               | 890 kB 13.2 MB/s eta 0:00:01\r\u001b[K     |█████████████████▏              | 901 kB 13.2 MB/s eta 0:00:01\r\u001b[K     |█████████████████▎              | 911 kB 13.2 MB/s eta 0:00:01\r\u001b[K     |█████████████████▌              | 921 kB 13.2 MB/s eta 0:00:01\r\u001b[K     |█████████████████▊              | 931 kB 13.2 MB/s eta 0:00:01\r\u001b[K     |██████████████████              | 942 kB 13.2 MB/s eta 0:00:01\r\u001b[K     |██████████████████              | 952 kB 13.2 MB/s eta 0:00:01\r\u001b[K     |██████████████████▎             | 962 kB 13.2 MB/s eta 0:00:01\r\u001b[K     |██████████████████▌             | 972 kB 13.2 MB/s eta 0:00:01\r\u001b[K     |██████████████████▊             | 983 kB 13.2 MB/s eta 0:00:01\r\u001b[K     |██████████████████▉             | 993 kB 13.2 MB/s eta 0:00:01\r\u001b[K     |███████████████████             | 1.0 MB 13.2 MB/s eta 0:00:01\r\u001b[K     |███████████████████▎            | 1.0 MB 13.2 MB/s eta 0:00:01\r\u001b[K     |███████████████████▌            | 1.0 MB 13.2 MB/s eta 0:00:01\r\u001b[K     |███████████████████▋            | 1.0 MB 13.2 MB/s eta 0:00:01\r\u001b[K     |███████████████████▉            | 1.0 MB 13.2 MB/s eta 0:00:01\r\u001b[K     |████████████████████            | 1.1 MB 13.2 MB/s eta 0:00:01\r\u001b[K     |████████████████████▎           | 1.1 MB 13.2 MB/s eta 0:00:01\r\u001b[K     |████████████████████▍           | 1.1 MB 13.2 MB/s eta 0:00:01\r\u001b[K     |████████████████████▋           | 1.1 MB 13.2 MB/s eta 0:00:01\r\u001b[K     |████████████████████▉           | 1.1 MB 13.2 MB/s eta 0:00:01\r\u001b[K     |█████████████████████           | 1.1 MB 13.2 MB/s eta 0:00:01\r\u001b[K     |█████████████████████▏          | 1.1 MB 13.2 MB/s eta 0:00:01\r\u001b[K     |█████████████████████▍          | 1.1 MB 13.2 MB/s eta 0:00:01\r\u001b[K     |█████████████████████▋          | 1.1 MB 13.2 MB/s eta 0:00:01\r\u001b[K     |█████████████████████▉          | 1.1 MB 13.2 MB/s eta 0:00:01\r\u001b[K     |██████████████████████          | 1.2 MB 13.2 MB/s eta 0:00:01\r\u001b[K     |██████████████████████▏         | 1.2 MB 13.2 MB/s eta 0:00:01\r\u001b[K     |██████████████████████▍         | 1.2 MB 13.2 MB/s eta 0:00:01\r\u001b[K     |██████████████████████▋         | 1.2 MB 13.2 MB/s eta 0:00:01\r\u001b[K     |██████████████████████▊         | 1.2 MB 13.2 MB/s eta 0:00:01\r\u001b[K     |███████████████████████         | 1.2 MB 13.2 MB/s eta 0:00:01\r\u001b[K     |███████████████████████▏        | 1.2 MB 13.2 MB/s eta 0:00:01\r\u001b[K     |███████████████████████▍        | 1.2 MB 13.2 MB/s eta 0:00:01\r\u001b[K     |███████████████████████▋        | 1.2 MB 13.2 MB/s eta 0:00:01\r\u001b[K     |███████████████████████▊        | 1.2 MB 13.2 MB/s eta 0:00:01\r\u001b[K     |████████████████████████        | 1.3 MB 13.2 MB/s eta 0:00:01\r\u001b[K     |████████████████████████▏       | 1.3 MB 13.2 MB/s eta 0:00:01\r\u001b[K     |████████████████████████▍       | 1.3 MB 13.2 MB/s eta 0:00:01\r\u001b[K     |████████████████████████▌       | 1.3 MB 13.2 MB/s eta 0:00:01\r\u001b[K     |████████████████████████▊       | 1.3 MB 13.2 MB/s eta 0:00:01\r\u001b[K     |█████████████████████████       | 1.3 MB 13.2 MB/s eta 0:00:01\r\u001b[K     |█████████████████████████▏      | 1.3 MB 13.2 MB/s eta 0:00:01\r\u001b[K     |█████████████████████████▎      | 1.3 MB 13.2 MB/s eta 0:00:01\r\u001b[K     |█████████████████████████▌      | 1.3 MB 13.2 MB/s eta 0:00:01\r\u001b[K     |█████████████████████████▊      | 1.4 MB 13.2 MB/s eta 0:00:01\r\u001b[K     |██████████████████████████      | 1.4 MB 13.2 MB/s eta 0:00:01\r\u001b[K     |██████████████████████████      | 1.4 MB 13.2 MB/s eta 0:00:01\r\u001b[K     |██████████████████████████▎     | 1.4 MB 13.2 MB/s eta 0:00:01\r\u001b[K     |██████████████████████████▌     | 1.4 MB 13.2 MB/s eta 0:00:01\r\u001b[K     |██████████████████████████▊     | 1.4 MB 13.2 MB/s eta 0:00:01\r\u001b[K     |██████████████████████████▉     | 1.4 MB 13.2 MB/s eta 0:00:01\r\u001b[K     |███████████████████████████     | 1.4 MB 13.2 MB/s eta 0:00:01\r\u001b[K     |███████████████████████████▎    | 1.4 MB 13.2 MB/s eta 0:00:01\r\u001b[K     |███████████████████████████▌    | 1.4 MB 13.2 MB/s eta 0:00:01\r\u001b[K     |███████████████████████████▋    | 1.5 MB 13.2 MB/s eta 0:00:01\r\u001b[K     |███████████████████████████▉    | 1.5 MB 13.2 MB/s eta 0:00:01\r\u001b[K     |████████████████████████████    | 1.5 MB 13.2 MB/s eta 0:00:01\r\u001b[K     |████████████████████████████▎   | 1.5 MB 13.2 MB/s eta 0:00:01\r\u001b[K     |████████████████████████████▍   | 1.5 MB 13.2 MB/s eta 0:00:01\r\u001b[K     |████████████████████████████▋   | 1.5 MB 13.2 MB/s eta 0:00:01\r\u001b[K     |████████████████████████████▉   | 1.5 MB 13.2 MB/s eta 0:00:01\r\u001b[K     |█████████████████████████████   | 1.5 MB 13.2 MB/s eta 0:00:01\r\u001b[K     |█████████████████████████████▏  | 1.5 MB 13.2 MB/s eta 0:00:01\r\u001b[K     |█████████████████████████████▍  | 1.5 MB 13.2 MB/s eta 0:00:01\r\u001b[K     |█████████████████████████████▋  | 1.6 MB 13.2 MB/s eta 0:00:01\r\u001b[K     |█████████████████████████████▉  | 1.6 MB 13.2 MB/s eta 0:00:01\r\u001b[K     |██████████████████████████████  | 1.6 MB 13.2 MB/s eta 0:00:01\r\u001b[K     |██████████████████████████████▏ | 1.6 MB 13.2 MB/s eta 0:00:01\r\u001b[K     |██████████████████████████████▍ | 1.6 MB 13.2 MB/s eta 0:00:01\r\u001b[K     |██████████████████████████████▋ | 1.6 MB 13.2 MB/s eta 0:00:01\r\u001b[K     |██████████████████████████████▊ | 1.6 MB 13.2 MB/s eta 0:00:01\r\u001b[K     |███████████████████████████████ | 1.6 MB 13.2 MB/s eta 0:00:01\r\u001b[K     |███████████████████████████████▏| 1.6 MB 13.2 MB/s eta 0:00:01\r\u001b[K     |███████████████████████████████▍| 1.6 MB 13.2 MB/s eta 0:00:01\r\u001b[K     |███████████████████████████████▌| 1.7 MB 13.2 MB/s eta 0:00:01\r\u001b[K     |███████████████████████████████▊| 1.7 MB 13.2 MB/s eta 0:00:01\r\u001b[K     |████████████████████████████████| 1.7 MB 13.2 MB/s eta 0:00:01\r\u001b[K     |████████████████████████████████| 1.7 MB 13.2 MB/s \n",
            "\u001b[?25hRequirement already satisfied: python-dateutil>=2.6.1 in /usr/local/lib/python3.7/dist-packages (from wandb) (2.8.2)\n",
            "Requirement already satisfied: psutil>=5.0.0 in /usr/local/lib/python3.7/dist-packages (from wandb) (5.4.8)\n",
            "Collecting GitPython>=1.0.0\n",
            "  Downloading GitPython-3.1.24-py3-none-any.whl (180 kB)\n",
            "\u001b[K     |████████████████████████████████| 180 kB 51.9 MB/s \n",
            "\u001b[?25hCollecting pathtools\n",
            "  Downloading pathtools-0.1.2.tar.gz (11 kB)\n",
            "Collecting sentry-sdk>=1.0.0\n",
            "  Downloading sentry_sdk-1.4.3-py2.py3-none-any.whl (139 kB)\n",
            "\u001b[K     |████████████████████████████████| 139 kB 43.5 MB/s \n",
            "\u001b[?25hRequirement already satisfied: requests<3,>=2.0.0 in /usr/local/lib/python3.7/dist-packages (from wandb) (2.23.0)\n",
            "Collecting subprocess32>=3.5.3\n",
            "  Downloading subprocess32-3.5.4.tar.gz (97 kB)\n",
            "\u001b[K     |████████████████████████████████| 97 kB 7.4 MB/s \n",
            "\u001b[?25hCollecting yaspin>=1.0.0\n",
            "  Downloading yaspin-2.1.0-py3-none-any.whl (18 kB)\n",
            "Requirement already satisfied: promise<3,>=2.0 in /usr/local/lib/python3.7/dist-packages (from wandb) (2.3)\n",
            "Collecting docker-pycreds>=0.4.0\n",
            "  Downloading docker_pycreds-0.4.0-py2.py3-none-any.whl (9.0 kB)\n",
            "Requirement already satisfied: Click!=8.0.0,>=7.0 in /usr/local/lib/python3.7/dist-packages (from wandb) (7.1.2)\n",
            "Collecting configparser>=3.8.1\n",
            "  Downloading configparser-5.0.2-py3-none-any.whl (19 kB)\n",
            "Collecting shortuuid>=0.5.0\n",
            "  Downloading shortuuid-1.0.1-py3-none-any.whl (7.5 kB)\n",
            "Requirement already satisfied: protobuf>=3.12.0 in /usr/local/lib/python3.7/dist-packages (from wandb) (3.17.3)\n",
            "Requirement already satisfied: six>=1.13.0 in /usr/local/lib/python3.7/dist-packages (from wandb) (1.15.0)\n",
            "Requirement already satisfied: PyYAML in /usr/local/lib/python3.7/dist-packages (from wandb) (3.13)\n",
            "Collecting gitdb<5,>=4.0.1\n",
            "  Downloading gitdb-4.0.9-py3-none-any.whl (63 kB)\n",
            "\u001b[K     |████████████████████████████████| 63 kB 1.7 MB/s \n",
            "\u001b[?25hRequirement already satisfied: typing-extensions>=3.7.4.3 in /usr/local/lib/python3.7/dist-packages (from GitPython>=1.0.0->wandb) (3.7.4.3)\n",
            "Collecting smmap<6,>=3.0.1\n",
            "  Downloading smmap-5.0.0-py3-none-any.whl (24 kB)\n",
            "Requirement already satisfied: certifi>=2017.4.17 in /usr/local/lib/python3.7/dist-packages (from requests<3,>=2.0.0->wandb) (2021.5.30)\n",
            "Requirement already satisfied: idna<3,>=2.5 in /usr/local/lib/python3.7/dist-packages (from requests<3,>=2.0.0->wandb) (2.10)\n",
            "Requirement already satisfied: chardet<4,>=3.0.2 in /usr/local/lib/python3.7/dist-packages (from requests<3,>=2.0.0->wandb) (3.0.4)\n",
            "Requirement already satisfied: urllib3!=1.25.0,!=1.25.1,<1.26,>=1.21.1 in /usr/local/lib/python3.7/dist-packages (from requests<3,>=2.0.0->wandb) (1.24.3)\n",
            "Requirement already satisfied: termcolor<2.0.0,>=1.1.0 in /usr/local/lib/python3.7/dist-packages (from yaspin>=1.0.0->wandb) (1.1.0)\n",
            "Building wheels for collected packages: subprocess32, pathtools\n",
            "  Building wheel for subprocess32 (setup.py) ... \u001b[?25l\u001b[?25hdone\n",
            "  Created wheel for subprocess32: filename=subprocess32-3.5.4-py3-none-any.whl size=6502 sha256=958c53770748d95b011c42fe212c149b1d00f509de4fbdf634bd9dbbbcd09074\n",
            "  Stored in directory: /root/.cache/pip/wheels/50/ca/fa/8fca8d246e64f19488d07567547ddec8eb084e8c0d7a59226a\n",
            "  Building wheel for pathtools (setup.py) ... \u001b[?25l\u001b[?25hdone\n",
            "  Created wheel for pathtools: filename=pathtools-0.1.2-py3-none-any.whl size=8807 sha256=a969876729a1c9a873e7cf232ea52856a44590d8eb0a3bc03a56bb0582761e9c\n",
            "  Stored in directory: /root/.cache/pip/wheels/3e/31/09/fa59cef12cdcfecc627b3d24273699f390e71828921b2cbba2\n",
            "Successfully built subprocess32 pathtools\n",
            "Installing collected packages: smmap, gitdb, yaspin, subprocess32, shortuuid, sentry-sdk, pathtools, GitPython, docker-pycreds, configparser, wandb\n",
            "Successfully installed GitPython-3.1.24 configparser-5.0.2 docker-pycreds-0.4.0 gitdb-4.0.9 pathtools-0.1.2 sentry-sdk-1.4.3 shortuuid-1.0.1 smmap-5.0.0 subprocess32-3.5.4 wandb-0.12.6 yaspin-2.1.0\n"
          ]
        }
      ]
    },
    {
      "cell_type": "code",
      "metadata": {
        "id": "Vy2BbrHa7Dnt",
        "colab": {
          "base_uri": "https://localhost:8080/",
          "height": 291,
          "referenced_widgets": [
            "7af575a86ef34a3eaec047ba06fd6244",
            "f5acb1834a6e4eedb6e6ffca05f0865f",
            "451dfa7773a243f18181946afa2834ff",
            "3a93550d75874b8fa7c4c76644eb0cbb",
            "3532556cc83d4d0ea1486d5fd0b7838f",
            "61643b72f86d4286b9acdd9fd94c8a0e",
            "2eee78ee652f4f75b17ac0f2eeeb608c",
            "a5f750fa33524c008e01a520c34cdfba"
          ]
        },
        "outputId": "59f9b2cc-1270-4415-b115-f44fb2acd8be"
      },
      "source": [
        "import wandb\n",
        "wandb.init(project='cifar10-gan', entity='tbass134')\n",
        "config = wandb.config"
      ],
      "execution_count": null,
      "outputs": [
        {
          "output_type": "display_data",
          "data": {
            "text/html": [
              "Finishing last run (ID:1pzoiie2) before initializing another..."
            ],
            "text/plain": [
              "<IPython.core.display.HTML object>"
            ]
          },
          "metadata": {}
        },
        {
          "output_type": "display_data",
          "data": {
            "text/html": [
              "<br/>Waiting for W&B process to finish, PID 205... <strong style=\"color:green\">(success).</strong>"
            ],
            "text/plain": [
              "<IPython.core.display.HTML object>"
            ]
          },
          "metadata": {}
        },
        {
          "output_type": "display_data",
          "data": {
            "application/vnd.jupyter.widget-view+json": {
              "model_id": "7af575a86ef34a3eaec047ba06fd6244",
              "version_minor": 0,
              "version_major": 2
            },
            "text/plain": [
              "VBox(children=(Label(value=' 7.52MB of 7.52MB uploaded (0.00MB deduped)\\r'), FloatProgress(value=1.0, max=1.0)…"
            ]
          },
          "metadata": {}
        },
        {
          "output_type": "display_data",
          "data": {
            "text/html": [
              "<style>\n",
              "    table.wandb td:nth-child(1) { padding: 0 10px; text-align: right }\n",
              "    .wandb-row { display: flex; flex-direction: row; flex-wrap: wrap; width: 100% }\n",
              "    .wandb-col { display: flex; flex-direction: column; flex-basis: 100%; flex: 1; padding: 10px; }\n",
              "    </style>\n",
              "<div class=\"wandb-row\"><div class=\"wandb-col\">\n",
              "<h3>Run history:</h3><br/><table class=\"wandb\"><tr><td>loss_d</td><td>▄▆▁▂▄▄▄▄▂█▁▆▄▄▂</td></tr><tr><td>loss_g</td><td>▁▅▃▇▃▃▃▄▃▇▄█▁▅▂</td></tr></table><br/></div><div class=\"wandb-col\">\n",
              "<h3>Run summary:</h3><br/><table class=\"wandb\"><tr><td>loss_d</td><td>0.64843</td></tr><tr><td>loss_g</td><td>0.67332</td></tr></table>\n",
              "</div></div>\n",
              "Synced 5 W&B file(s), 30 media file(s), 0 artifact file(s) and 0 other file(s)\n",
              "<br/>Synced <strong style=\"color:#cdcd00\">astral-armadillo-12</strong>: <a href=\"https://wandb.ai/tbass134/cifar10-gan/runs/1pzoiie2\" target=\"_blank\">https://wandb.ai/tbass134/cifar10-gan/runs/1pzoiie2</a><br/>\n",
              "Find logs at: <code>./wandb/run-20211029_114812-1pzoiie2/logs</code><br/>\n"
            ],
            "text/plain": [
              "<IPython.core.display.HTML object>"
            ]
          },
          "metadata": {}
        },
        {
          "output_type": "display_data",
          "data": {
            "text/html": [
              "Successfully finished last run (ID:1pzoiie2). Initializing new run:<br/>"
            ],
            "text/plain": [
              "<IPython.core.display.HTML object>"
            ]
          },
          "metadata": {}
        },
        {
          "output_type": "display_data",
          "data": {
            "text/html": [
              "\n",
              "                    Syncing run <strong><a href=\"https://wandb.ai/tbass134/cifar10-gan/runs/2b8y8lzl\" target=\"_blank\">radiant-shape-13</a></strong> to <a href=\"https://wandb.ai/tbass134/cifar10-gan\" target=\"_blank\">Weights & Biases</a> (<a href=\"https://docs.wandb.com/integrations/jupyter.html\" target=\"_blank\">docs</a>).<br/>\n",
              "\n",
              "                "
            ],
            "text/plain": [
              "<IPython.core.display.HTML object>"
            ]
          },
          "metadata": {}
        }
      ]
    },
    {
      "cell_type": "code",
      "metadata": {
        "id": "IIkIgW1t4wbg"
      },
      "source": [
        "class Discriminator(nn.Module):\n",
        "  def __init__(self, channels_img, features_d):\n",
        "    super().__init__()\n",
        "    self.d = nn.Sequential(\n",
        "        \n",
        "      nn.Conv2d(channels_img, features_d, kernel_size=4, stride=2, padding=1),\n",
        "      nn.LeakyReLU(0.2),\n",
        "      \n",
        "      nn.Conv2d(features_d, features_d*2, kernel_size=4, stride=2, padding=1, bias=False),\n",
        "      nn.BatchNorm2d(features_d*2),\n",
        "      nn.LeakyReLU(0.2),\n",
        "\n",
        "      nn.Conv2d(features_d*2, features_d*4, kernel_size=4, stride=2, padding=1, bias=False),\n",
        "      nn.BatchNorm2d(features_d*4),\n",
        "      nn.LeakyReLU(0.2),\n",
        "\n",
        "      nn.Conv2d(features_d*4, features_d*8, kernel_size=4, stride=2, padding=1, bias=False),\n",
        "      nn.BatchNorm2d(features_d*8),\n",
        "      nn.LeakyReLU(0.2),\n",
        "\n",
        "      nn.Conv2d(features_d*8, 1, kernel_size=4, stride=2, padding=0),\n",
        "      nn.LeakyReLU(0.2),\n",
        "\n",
        "      nn.Sigmoid()\n",
        "    )\n",
        "\n",
        "  def forward(self, x):\n",
        "    return self.d(x)\n",
        "\n",
        "class Generator(nn.Module):\n",
        "  def __init__(self, channels_noise, channels_img, features_g):\n",
        "    super().__init__()\n",
        "    self.g = nn.Sequential(\n",
        "        \n",
        "        nn.ConvTranspose2d(channels_noise, features_g * 16, 4, 1, 0, bias=False),\n",
        "        nn.BatchNorm2d(features_g * 16),\n",
        "        nn.ReLU(),\n",
        "\n",
        "        nn.ConvTranspose2d( features_g * 16, features_g * 8, 4, 2, 1, bias=False),\n",
        "        nn.BatchNorm2d(features_g * 8),\n",
        "        nn.ReLU(),\n",
        "\n",
        "        nn.ConvTranspose2d( features_g * 8, features_g * 4, 4, 2, 1, bias=False),\n",
        "        nn.BatchNorm2d(features_g * 4),\n",
        "        nn.ReLU(),\n",
        "\n",
        "        nn.ConvTranspose2d( features_g * 4, features_g * 2, 4, 2, 1, bias=False),\n",
        "        nn.BatchNorm2d(features_g * 2),\n",
        "        nn.ReLU(),\n",
        "\n",
        "        nn.ConvTranspose2d( features_g * 2, channels_img, 4, 2, 1),\n",
        "        nn.Tanh()\n",
        "    )\n",
        "       \n",
        "  def forward(self, x):\n",
        "    return self.g(x)"
      ],
      "execution_count": null,
      "outputs": []
    },
    {
      "cell_type": "code",
      "metadata": {
        "id": "iq2ba0QjLzig"
      },
      "source": [
        "def initialize_weights(model):\n",
        "    # Initializes weights according to the DCGAN paper\n",
        "    for m in model.modules():\n",
        "        if isinstance(m, (nn.Conv2d, nn.ConvTranspose2d, nn.BatchNorm2d)):\n",
        "            nn.init.normal_(m.weight.data, 0.0, 0.02)"
      ],
      "execution_count": null,
      "outputs": []
    },
    {
      "cell_type": "code",
      "metadata": {
        "colab": {
          "base_uri": "https://localhost:8080/",
          "height": 83,
          "referenced_widgets": [
            "0ef320e053c24c82abc687acb776db3b",
            "c2e93b21c7e144748047aac31bc4866b",
            "aea8532dd88946e984ef0f60ac4313e9",
            "0ac4eeda089c4359bd95f58d0acc9221",
            "a8b63b68e9d44b9ea12348129dd15932",
            "8bfcdca1993f44a19cfbe7a090d88f14",
            "0012489f979744f19034711d67fedebe",
            "2159944e717d4a67b047ddd50ebb5a63",
            "34bda9ccd1754368b28bda90862b8f40",
            "99210dc450154862934c9cfbe5882e7d",
            "93b17309bdec4d0c8d5d03a504c79a5e"
          ]
        },
        "id": "yjMrhUY-uNSl",
        "outputId": "745d34d3-be11-42ab-ef35-e5d0863feebe"
      },
      "source": [
        "config.img_size = 64\n",
        "config.img_channels = 3\n",
        "\n",
        "tfs = transforms.Compose([\n",
        "                          transforms.Resize(config.img_size),\n",
        "                          transforms.ToTensor(),\n",
        "                          transforms.Normalize(\n",
        "                              [0.5 for _ in range(config.img_channels)],\n",
        "                              [0.5 for _ in range(config.img_channels)]\n",
        "                          )\n",
        "     ])\n",
        "dset = datasets.CIFAR10(root='.', train=True,download=True, transform=tfs)\n"
      ],
      "execution_count": null,
      "outputs": [
        {
          "output_type": "stream",
          "name": "stdout",
          "text": [
            "Downloading https://www.cs.toronto.edu/~kriz/cifar-10-python.tar.gz to ./cifar-10-python.tar.gz\n"
          ]
        },
        {
          "output_type": "display_data",
          "data": {
            "application/vnd.jupyter.widget-view+json": {
              "model_id": "0ef320e053c24c82abc687acb776db3b",
              "version_minor": 0,
              "version_major": 2
            },
            "text/plain": [
              "  0%|          | 0/170498071 [00:00<?, ?it/s]"
            ]
          },
          "metadata": {}
        },
        {
          "output_type": "stream",
          "name": "stdout",
          "text": [
            "Extracting ./cifar-10-python.tar.gz to .\n"
          ]
        }
      ]
    },
    {
      "cell_type": "code",
      "metadata": {
        "id": "kEBWSMQH6G1D",
        "colab": {
          "base_uri": "https://localhost:8080/",
          "height": 1000
        },
        "outputId": "591334bd-b7d8-48a2-ba6a-1dc6b1ba1ccf"
      },
      "source": [
        "\n",
        "device = \"cuda\" if torch.cuda.is_available() else \"cpu\"\n",
        "\n",
        "config.lr = 2e-4\n",
        "config.betas = (0.5, 0.999)\n",
        "config.batch_size= 128\n",
        "\n",
        "\n",
        "config.noise_dim = 100\n",
        "config.num_epochs = 15\n",
        "config.features_d = 64\n",
        "config.features_g = 64\n",
        "\n",
        "gen = Generator(config.noise_dim, config.img_channels, config.features_g).to(device)\n",
        "disc = Discriminator(config.img_channels, config.features_d).to(device)\n",
        "initialize_weights(gen)\n",
        "initialize_weights(disc)\n",
        "\n",
        "wandb.watch(gen, log=\"all\")\n",
        "wandb.watch(disc, log=\"all\")\n",
        "print(\"Generator\", gen)\n",
        "print(\"Discriminator\", disc)\n",
        "\n",
        "fixed_noise = torch.randn(32, config.noise_dim, 1, 1).to(device)\n",
        "\n",
        "loader = DataLoader(dset, batch_size=config.batch_size, shuffle=True)\n",
        "\n",
        "opt_discriminator = optim.Adam(disc.parameters(), lr=config.lr, betas=config.betas)\n",
        "opt_generator = optim.Adam(gen.parameters(), lr=config.lr, betas=config.betas)\n",
        "\n",
        "criterion = nn.BCELoss()\n",
        "gen.train()\n",
        "disc.train()\n",
        "step = 0\n",
        "\n",
        "for epoch in range(config.num_epochs):\n",
        "  for batch_idx, (real_images, real_labels) in enumerate(loader):\n",
        "    real_images = real_images.to(device)\n",
        "    # train descriminator\n",
        "\n",
        "    #generate noise\n",
        "    noise = torch.randn(config.batch_size, config.noise_dim, 1, 1).to(device)\n",
        "    fake_images = gen(noise)\n",
        "\n",
        "    d_real = disc(real_images).reshape(-1)\n",
        "    loss_d_real = criterion(d_real, torch.ones_like(d_real))\n",
        "\n",
        "    d_fake = disc(fake_images.detach()).reshape(-1) #save fake_images in order to be reused againb\n",
        "    loss_d_fake = criterion(d_fake, torch.zeros_like(d_fake))\n",
        "\n",
        "    loss_d = (loss_d_real + loss_d_fake) / 2\n",
        "    disc.zero_grad()\n",
        "\n",
        "    loss_d.backward()\n",
        "    opt_discriminator.step()\n",
        "\n",
        "\n",
        "    # train Generator\n",
        "    #min log(1 - D(G(z))) <--> max log(D(G(z)))\n",
        "\n",
        "    output = disc(fake_images).reshape(-1)\n",
        "    loss_g = criterion(output, torch.ones_like(output))\n",
        "    gen.zero_grad()\n",
        "    loss_g.backward()\n",
        "    opt_generator.step()\n",
        "\n",
        "    if batch_idx == 0:\n",
        "          losses = {\"loss_d\": loss_d, \"loss_g\":loss_g}\n",
        "          print(losses)\n",
        "          wandb.log(losses)\n",
        "          print(\n",
        "              f\"Epoch [{epoch}/{config.num_epochs}] Batch {batch_idx}/{len(loader)} \\\n",
        "                    Loss D: {loss_d:.4f}, loss G: {loss_g:.4f}\"\n",
        "          )\n",
        "\n",
        "          with torch.no_grad():\n",
        "              fake = gen(fixed_noise)\n",
        "\n",
        "              \n",
        "              img_grid_fake = torchvision.utils.make_grid(fake[:32], normalize=True)\n",
        "              img_grid_real = torchvision.utils.make_grid(real_images[:32], normalize=True) \n",
        "              # show_img(img_grid_fake, f'{epoch}-fake')\n",
        "              # show_img(img_grid_real, f'{epoch}-real')\n",
        "\n",
        "              wandb.log({\"fake_images\": wandb.Image(img_grid_fake)})\n",
        "              wandb.log({\"real_images\": wandb.Image(img_grid_real)})\n",
        "\n",
        "\n",
        "              step += 1\n",
        "  "
      ],
      "execution_count": null,
      "outputs": [
        {
          "output_type": "stream",
          "name": "stdout",
          "text": [
            "Generator Generator(\n",
            "  (g): Sequential(\n",
            "    (0): ConvTranspose2d(100, 1024, kernel_size=(4, 4), stride=(1, 1), bias=False)\n",
            "    (1): ReLU()\n",
            "    (2): ConvTranspose2d(1024, 512, kernel_size=(4, 4), stride=(2, 2), padding=(1, 1), bias=False)\n",
            "    (3): ReLU()\n",
            "    (4): ConvTranspose2d(512, 256, kernel_size=(4, 4), stride=(2, 2), padding=(1, 1), bias=False)\n",
            "    (5): ReLU()\n",
            "    (6): ConvTranspose2d(256, 128, kernel_size=(4, 4), stride=(2, 2), padding=(1, 1), bias=False)\n",
            "    (7): ReLU()\n",
            "    (8): ConvTranspose2d(128, 3, kernel_size=(4, 4), stride=(2, 2), padding=(1, 1))\n",
            "    (9): Tanh()\n",
            "  )\n",
            ")\n",
            "Discriminator Discriminator(\n",
            "  (d): Sequential(\n",
            "    (0): Conv2d(3, 64, kernel_size=(4, 4), stride=(2, 2), padding=(1, 1))\n",
            "    (1): LeakyReLU(negative_slope=0.2)\n",
            "    (2): Conv2d(64, 128, kernel_size=(4, 4), stride=(2, 2), padding=(1, 1))\n",
            "    (3): LeakyReLU(negative_slope=0.2)\n",
            "    (4): Conv2d(128, 256, kernel_size=(4, 4), stride=(2, 2), padding=(1, 1))\n",
            "    (5): LeakyReLU(negative_slope=0.2)\n",
            "    (6): Conv2d(256, 512, kernel_size=(4, 4), stride=(2, 2), padding=(1, 1))\n",
            "    (7): LeakyReLU(negative_slope=0.2)\n",
            "    (8): Conv2d(512, 1, kernel_size=(4, 4), stride=(2, 2), padding=(1, 1))\n",
            "    (9): LeakyReLU(negative_slope=0.2)\n",
            "    (10): Sigmoid()\n",
            "  )\n",
            ")\n",
            "{'loss_d': tensor(0.6929, device='cuda:0', grad_fn=<DivBackward0>), 'loss_g': tensor(0.6404, device='cuda:0', grad_fn=<BinaryCrossEntropyBackward>)}\n",
            "Epoch [0/15] Batch 0/391                     Loss D: 0.6929, loss G: 0.6404\n",
            "{'loss_d': tensor(0.7296, device='cuda:0', grad_fn=<DivBackward0>), 'loss_g': tensor(0.7760, device='cuda:0', grad_fn=<BinaryCrossEntropyBackward>)}\n",
            "Epoch [1/15] Batch 0/391                     Loss D: 0.7296, loss G: 0.7760\n",
            "{'loss_d': tensor(0.6168, device='cuda:0', grad_fn=<DivBackward0>), 'loss_g': tensor(0.7077, device='cuda:0', grad_fn=<BinaryCrossEntropyBackward>)}\n",
            "Epoch [2/15] Batch 0/391                     Loss D: 0.6168, loss G: 0.7077\n",
            "{'loss_d': tensor(0.6485, device='cuda:0', grad_fn=<DivBackward0>), 'loss_g': tensor(0.8396, device='cuda:0', grad_fn=<BinaryCrossEntropyBackward>)}\n",
            "Epoch [3/15] Batch 0/391                     Loss D: 0.6485, loss G: 0.8396\n",
            "{'loss_d': tensor(0.6855, device='cuda:0', grad_fn=<DivBackward0>), 'loss_g': tensor(0.7047, device='cuda:0', grad_fn=<BinaryCrossEntropyBackward>)}\n",
            "Epoch [4/15] Batch 0/391                     Loss D: 0.6855, loss G: 0.7047\n",
            "{'loss_d': tensor(0.6902, device='cuda:0', grad_fn=<DivBackward0>), 'loss_g': tensor(0.6995, device='cuda:0', grad_fn=<BinaryCrossEntropyBackward>)}\n",
            "Epoch [5/15] Batch 0/391                     Loss D: 0.6902, loss G: 0.6995\n",
            "{'loss_d': tensor(0.6945, device='cuda:0', grad_fn=<DivBackward0>), 'loss_g': tensor(0.6989, device='cuda:0', grad_fn=<BinaryCrossEntropyBackward>)}\n",
            "Epoch [6/15] Batch 0/391                     Loss D: 0.6945, loss G: 0.6989\n",
            "{'loss_d': tensor(0.6819, device='cuda:0', grad_fn=<DivBackward0>), 'loss_g': tensor(0.7253, device='cuda:0', grad_fn=<BinaryCrossEntropyBackward>)}\n",
            "Epoch [7/15] Batch 0/391                     Loss D: 0.6819, loss G: 0.7253\n",
            "{'loss_d': tensor(0.6346, device='cuda:0', grad_fn=<DivBackward0>), 'loss_g': tensor(0.7082, device='cuda:0', grad_fn=<BinaryCrossEntropyBackward>)}\n",
            "Epoch [8/15] Batch 0/391                     Loss D: 0.6346, loss G: 0.7082\n",
            "{'loss_d': tensor(0.7840, device='cuda:0', grad_fn=<DivBackward0>), 'loss_g': tensor(0.8334, device='cuda:0', grad_fn=<BinaryCrossEntropyBackward>)}\n",
            "Epoch [9/15] Batch 0/391                     Loss D: 0.7840, loss G: 0.8334\n",
            "{'loss_d': tensor(0.6283, device='cuda:0', grad_fn=<DivBackward0>), 'loss_g': tensor(0.7332, device='cuda:0', grad_fn=<BinaryCrossEntropyBackward>)}\n",
            "Epoch [10/15] Batch 0/391                     Loss D: 0.6283, loss G: 0.7332\n",
            "{'loss_d': tensor(0.7398, device='cuda:0', grad_fn=<DivBackward0>), 'loss_g': tensor(0.8560, device='cuda:0', grad_fn=<BinaryCrossEntropyBackward>)}\n",
            "Epoch [11/15] Batch 0/391                     Loss D: 0.7398, loss G: 0.8560\n",
            "{'loss_d': tensor(0.6923, device='cuda:0', grad_fn=<DivBackward0>), 'loss_g': tensor(0.6536, device='cuda:0', grad_fn=<BinaryCrossEntropyBackward>)}\n",
            "Epoch [12/15] Batch 0/391                     Loss D: 0.6923, loss G: 0.6536\n",
            "{'loss_d': tensor(0.6885, device='cuda:0', grad_fn=<DivBackward0>), 'loss_g': tensor(0.7699, device='cuda:0', grad_fn=<BinaryCrossEntropyBackward>)}\n",
            "Epoch [13/15] Batch 0/391                     Loss D: 0.6885, loss G: 0.7699\n",
            "{'loss_d': tensor(0.6484, device='cuda:0', grad_fn=<DivBackward0>), 'loss_g': tensor(0.6733, device='cuda:0', grad_fn=<BinaryCrossEntropyBackward>)}\n",
            "Epoch [14/15] Batch 0/391                     Loss D: 0.6484, loss G: 0.6733\n"
          ]
        },
        {
          "output_type": "error",
          "ename": "KeyboardInterrupt",
          "evalue": "ignored",
          "traceback": [
            "\u001b[0;31m---------------------------------------------------------------------------\u001b[0m",
            "\u001b[0;31mKeyboardInterrupt\u001b[0m                         Traceback (most recent call last)",
            "\u001b[0;32m<ipython-input-8-1d0df628c752>\u001b[0m in \u001b[0;36m<module>\u001b[0;34m()\u001b[0m\n\u001b[1;32m     36\u001b[0m \u001b[0;32mfor\u001b[0m \u001b[0mepoch\u001b[0m \u001b[0;32min\u001b[0m \u001b[0mrange\u001b[0m\u001b[0;34m(\u001b[0m\u001b[0mconfig\u001b[0m\u001b[0;34m.\u001b[0m\u001b[0mnum_epochs\u001b[0m\u001b[0;34m)\u001b[0m\u001b[0;34m:\u001b[0m\u001b[0;34m\u001b[0m\u001b[0;34m\u001b[0m\u001b[0m\n\u001b[1;32m     37\u001b[0m   \u001b[0;32mfor\u001b[0m \u001b[0mbatch_idx\u001b[0m\u001b[0;34m,\u001b[0m \u001b[0;34m(\u001b[0m\u001b[0mreal_images\u001b[0m\u001b[0;34m,\u001b[0m \u001b[0mreal_labels\u001b[0m\u001b[0;34m)\u001b[0m \u001b[0;32min\u001b[0m \u001b[0menumerate\u001b[0m\u001b[0;34m(\u001b[0m\u001b[0mloader\u001b[0m\u001b[0;34m)\u001b[0m\u001b[0;34m:\u001b[0m\u001b[0;34m\u001b[0m\u001b[0;34m\u001b[0m\u001b[0m\n\u001b[0;32m---> 38\u001b[0;31m     \u001b[0mreal_images\u001b[0m \u001b[0;34m=\u001b[0m \u001b[0mreal_images\u001b[0m\u001b[0;34m.\u001b[0m\u001b[0mto\u001b[0m\u001b[0;34m(\u001b[0m\u001b[0mdevice\u001b[0m\u001b[0;34m)\u001b[0m\u001b[0;34m\u001b[0m\u001b[0;34m\u001b[0m\u001b[0m\n\u001b[0m\u001b[1;32m     39\u001b[0m     \u001b[0;31m# train descriminator\u001b[0m\u001b[0;34m\u001b[0m\u001b[0;34m\u001b[0m\u001b[0;34m\u001b[0m\u001b[0m\n\u001b[1;32m     40\u001b[0m \u001b[0;34m\u001b[0m\u001b[0m\n",
            "\u001b[0;31mKeyboardInterrupt\u001b[0m: "
          ]
        }
      ]
    },
    {
      "cell_type": "code",
      "metadata": {
        "id": "TNZuouy2T7u-"
      },
      "source": [
        "  "
      ],
      "execution_count": null,
      "outputs": []
    }
  ]
}