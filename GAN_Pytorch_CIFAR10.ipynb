{
  "nbformat": 4,
  "nbformat_minor": 0,
  "metadata": {
    "colab": {
      "name": "GAN - Pytorch - CIFAR10.ipynb",
      "provenance": [],
      "collapsed_sections": [],
      "authorship_tag": "ABX9TyOExu2v3yrWNR6HvIuusrl2",
      "include_colab_link": true
    },
    "kernelspec": {
      "name": "python3",
      "display_name": "Python 3"
    },
    "language_info": {
      "name": "python"
    },
    "accelerator": "GPU",
    "widgets": {
      "application/vnd.jupyter.widget-state+json": {
        "9ca7bcaf846841e19ae7b5f6167744de": {
          "model_module": "@jupyter-widgets/controls",
          "model_name": "VBoxModel",
          "model_module_version": "1.5.0",
          "state": {
            "_view_name": "VBoxView",
            "_dom_classes": [],
            "_model_name": "VBoxModel",
            "_view_module": "@jupyter-widgets/controls",
            "_model_module_version": "1.5.0",
            "_view_count": null,
            "_view_module_version": "1.5.0",
            "box_style": "",
            "layout": "IPY_MODEL_28c1aaa4e7bd4a8db85613e564461b35",
            "_model_module": "@jupyter-widgets/controls",
            "children": [
              "IPY_MODEL_990c91c19ce34017a4dc69ad29677b8b",
              "IPY_MODEL_aa46291362284ce6b2fe2cdc11f997d5"
            ]
          }
        },
        "28c1aaa4e7bd4a8db85613e564461b35": {
          "model_module": "@jupyter-widgets/base",
          "model_name": "LayoutModel",
          "model_module_version": "1.2.0",
          "state": {
            "_view_name": "LayoutView",
            "grid_template_rows": null,
            "right": null,
            "justify_content": null,
            "_view_module": "@jupyter-widgets/base",
            "overflow": null,
            "_model_module_version": "1.2.0",
            "_view_count": null,
            "flex_flow": null,
            "width": null,
            "min_width": null,
            "border": null,
            "align_items": null,
            "bottom": null,
            "_model_module": "@jupyter-widgets/base",
            "top": null,
            "grid_column": null,
            "overflow_y": null,
            "overflow_x": null,
            "grid_auto_flow": null,
            "grid_area": null,
            "grid_template_columns": null,
            "flex": null,
            "_model_name": "LayoutModel",
            "justify_items": null,
            "grid_row": null,
            "max_height": null,
            "align_content": null,
            "visibility": null,
            "align_self": null,
            "height": null,
            "min_height": null,
            "padding": null,
            "grid_auto_rows": null,
            "grid_gap": null,
            "max_width": null,
            "order": null,
            "_view_module_version": "1.2.0",
            "grid_template_areas": null,
            "object_position": null,
            "object_fit": null,
            "grid_auto_columns": null,
            "margin": null,
            "display": null,
            "left": null
          }
        },
        "990c91c19ce34017a4dc69ad29677b8b": {
          "model_module": "@jupyter-widgets/controls",
          "model_name": "LabelModel",
          "model_module_version": "1.5.0",
          "state": {
            "_view_name": "LabelView",
            "style": "IPY_MODEL_cfeb6076c7ce42caaaf6a844cd1b4171",
            "_dom_classes": [],
            "description": "",
            "_model_name": "LabelModel",
            "placeholder": "​",
            "_view_module": "@jupyter-widgets/controls",
            "_model_module_version": "1.5.0",
            "value": " 7.27MB of 7.27MB uploaded (0.00MB deduped)\r",
            "_view_count": null,
            "_view_module_version": "1.5.0",
            "description_tooltip": null,
            "_model_module": "@jupyter-widgets/controls",
            "layout": "IPY_MODEL_a2679f62a4bc4c24b249dabe9e70fcb4"
          }
        },
        "aa46291362284ce6b2fe2cdc11f997d5": {
          "model_module": "@jupyter-widgets/controls",
          "model_name": "FloatProgressModel",
          "model_module_version": "1.5.0",
          "state": {
            "_view_name": "ProgressView",
            "style": "IPY_MODEL_1e48a3d2c182424f975db3e9a8521da7",
            "_dom_classes": [],
            "description": "",
            "_model_name": "FloatProgressModel",
            "bar_style": "",
            "max": 1,
            "_view_module": "@jupyter-widgets/controls",
            "_model_module_version": "1.5.0",
            "value": 1,
            "_view_count": null,
            "_view_module_version": "1.5.0",
            "orientation": "horizontal",
            "min": 0,
            "description_tooltip": null,
            "_model_module": "@jupyter-widgets/controls",
            "layout": "IPY_MODEL_708bf2680a094fc3acb704e1f9e166de"
          }
        },
        "cfeb6076c7ce42caaaf6a844cd1b4171": {
          "model_module": "@jupyter-widgets/controls",
          "model_name": "DescriptionStyleModel",
          "model_module_version": "1.5.0",
          "state": {
            "_view_name": "StyleView",
            "_model_name": "DescriptionStyleModel",
            "description_width": "",
            "_view_module": "@jupyter-widgets/base",
            "_model_module_version": "1.5.0",
            "_view_count": null,
            "_view_module_version": "1.2.0",
            "_model_module": "@jupyter-widgets/controls"
          }
        },
        "a2679f62a4bc4c24b249dabe9e70fcb4": {
          "model_module": "@jupyter-widgets/base",
          "model_name": "LayoutModel",
          "model_module_version": "1.2.0",
          "state": {
            "_view_name": "LayoutView",
            "grid_template_rows": null,
            "right": null,
            "justify_content": null,
            "_view_module": "@jupyter-widgets/base",
            "overflow": null,
            "_model_module_version": "1.2.0",
            "_view_count": null,
            "flex_flow": null,
            "width": null,
            "min_width": null,
            "border": null,
            "align_items": null,
            "bottom": null,
            "_model_module": "@jupyter-widgets/base",
            "top": null,
            "grid_column": null,
            "overflow_y": null,
            "overflow_x": null,
            "grid_auto_flow": null,
            "grid_area": null,
            "grid_template_columns": null,
            "flex": null,
            "_model_name": "LayoutModel",
            "justify_items": null,
            "grid_row": null,
            "max_height": null,
            "align_content": null,
            "visibility": null,
            "align_self": null,
            "height": null,
            "min_height": null,
            "padding": null,
            "grid_auto_rows": null,
            "grid_gap": null,
            "max_width": null,
            "order": null,
            "_view_module_version": "1.2.0",
            "grid_template_areas": null,
            "object_position": null,
            "object_fit": null,
            "grid_auto_columns": null,
            "margin": null,
            "display": null,
            "left": null
          }
        },
        "1e48a3d2c182424f975db3e9a8521da7": {
          "model_module": "@jupyter-widgets/controls",
          "model_name": "ProgressStyleModel",
          "model_module_version": "1.5.0",
          "state": {
            "_view_name": "StyleView",
            "_model_name": "ProgressStyleModel",
            "description_width": "",
            "_view_module": "@jupyter-widgets/base",
            "_model_module_version": "1.5.0",
            "_view_count": null,
            "_view_module_version": "1.2.0",
            "bar_color": null,
            "_model_module": "@jupyter-widgets/controls"
          }
        },
        "708bf2680a094fc3acb704e1f9e166de": {
          "model_module": "@jupyter-widgets/base",
          "model_name": "LayoutModel",
          "model_module_version": "1.2.0",
          "state": {
            "_view_name": "LayoutView",
            "grid_template_rows": null,
            "right": null,
            "justify_content": null,
            "_view_module": "@jupyter-widgets/base",
            "overflow": null,
            "_model_module_version": "1.2.0",
            "_view_count": null,
            "flex_flow": null,
            "width": null,
            "min_width": null,
            "border": null,
            "align_items": null,
            "bottom": null,
            "_model_module": "@jupyter-widgets/base",
            "top": null,
            "grid_column": null,
            "overflow_y": null,
            "overflow_x": null,
            "grid_auto_flow": null,
            "grid_area": null,
            "grid_template_columns": null,
            "flex": null,
            "_model_name": "LayoutModel",
            "justify_items": null,
            "grid_row": null,
            "max_height": null,
            "align_content": null,
            "visibility": null,
            "align_self": null,
            "height": null,
            "min_height": null,
            "padding": null,
            "grid_auto_rows": null,
            "grid_gap": null,
            "max_width": null,
            "order": null,
            "_view_module_version": "1.2.0",
            "grid_template_areas": null,
            "object_position": null,
            "object_fit": null,
            "grid_auto_columns": null,
            "margin": null,
            "display": null,
            "left": null
          }
        }
      }
    }
  },
  "cells": [
    {
      "cell_type": "markdown",
      "metadata": {
        "id": "view-in-github",
        "colab_type": "text"
      },
      "source": [
        "<a href=\"https://colab.research.google.com/github/tbass134/GAN-pytorch/blob/main/GAN_Pytorch_CIFAR10.ipynb\" target=\"_parent\"><img src=\"https://colab.research.google.com/assets/colab-badge.svg\" alt=\"Open In Colab\"/></a>"
      ]
    },
    {
      "cell_type": "code",
      "metadata": {
        "id": "FRjXmllL4TjO",
        "colab": {
          "base_uri": "https://localhost:8080/",
          "height": 527
        },
        "outputId": "460e64a9-e19b-4130-855f-aa4c4621c51e"
      },
      "source": [
        "import torch\n",
        "import torch.nn as nn\n",
        "import torch.optim as optim\n",
        "import torchvision\n",
        "import torchvision.datasets as datasets\n",
        "from torch.utils.data import DataLoader\n",
        "import torchvision.transforms as transforms\n",
        "from torch.utils.tensorboard import SummaryWriter\n"
      ],
      "execution_count": null,
      "outputs": [
        {
          "output_type": "stream",
          "name": "stdout",
          "text": [
            "Requirement already satisfied: wandb in /usr/local/lib/python3.7/dist-packages (0.12.4)\n",
            "Requirement already satisfied: promise<3,>=2.0 in /usr/local/lib/python3.7/dist-packages (from wandb) (2.3)\n",
            "Requirement already satisfied: protobuf>=3.12.0 in /usr/local/lib/python3.7/dist-packages (from wandb) (3.17.3)\n",
            "Requirement already satisfied: yaspin>=1.0.0 in /usr/local/lib/python3.7/dist-packages (from wandb) (2.1.0)\n",
            "Requirement already satisfied: PyYAML in /usr/local/lib/python3.7/dist-packages (from wandb) (3.13)\n",
            "Requirement already satisfied: Click!=8.0.0,>=7.0 in /usr/local/lib/python3.7/dist-packages (from wandb) (7.1.2)\n",
            "Requirement already satisfied: six>=1.13.0 in /usr/local/lib/python3.7/dist-packages (from wandb) (1.15.0)\n",
            "Requirement already satisfied: sentry-sdk>=1.0.0 in /usr/local/lib/python3.7/dist-packages (from wandb) (1.4.3)\n",
            "Requirement already satisfied: docker-pycreds>=0.4.0 in /usr/local/lib/python3.7/dist-packages (from wandb) (0.4.0)\n",
            "Requirement already satisfied: GitPython>=1.0.0 in /usr/local/lib/python3.7/dist-packages (from wandb) (3.1.24)\n",
            "Requirement already satisfied: psutil>=5.0.0 in /usr/local/lib/python3.7/dist-packages (from wandb) (5.4.8)\n",
            "Requirement already satisfied: configparser>=3.8.1 in /usr/local/lib/python3.7/dist-packages (from wandb) (5.0.2)\n",
            "Requirement already satisfied: pathtools in /usr/local/lib/python3.7/dist-packages (from wandb) (0.1.2)\n",
            "Requirement already satisfied: subprocess32>=3.5.3 in /usr/local/lib/python3.7/dist-packages (from wandb) (3.5.4)\n",
            "Requirement already satisfied: python-dateutil>=2.6.1 in /usr/local/lib/python3.7/dist-packages (from wandb) (2.8.2)\n",
            "Requirement already satisfied: shortuuid>=0.5.0 in /usr/local/lib/python3.7/dist-packages (from wandb) (1.0.1)\n",
            "Requirement already satisfied: requests<3,>=2.0.0 in /usr/local/lib/python3.7/dist-packages (from wandb) (2.23.0)\n",
            "Requirement already satisfied: typing-extensions>=3.7.4.3 in /usr/local/lib/python3.7/dist-packages (from GitPython>=1.0.0->wandb) (3.7.4.3)\n",
            "Requirement already satisfied: gitdb<5,>=4.0.1 in /usr/local/lib/python3.7/dist-packages (from GitPython>=1.0.0->wandb) (4.0.7)\n",
            "Requirement already satisfied: smmap<5,>=3.0.1 in /usr/local/lib/python3.7/dist-packages (from gitdb<5,>=4.0.1->GitPython>=1.0.0->wandb) (4.0.0)\n",
            "Requirement already satisfied: chardet<4,>=3.0.2 in /usr/local/lib/python3.7/dist-packages (from requests<3,>=2.0.0->wandb) (3.0.4)\n",
            "Requirement already satisfied: urllib3!=1.25.0,!=1.25.1,<1.26,>=1.21.1 in /usr/local/lib/python3.7/dist-packages (from requests<3,>=2.0.0->wandb) (1.24.3)\n",
            "Requirement already satisfied: idna<3,>=2.5 in /usr/local/lib/python3.7/dist-packages (from requests<3,>=2.0.0->wandb) (2.10)\n",
            "Requirement already satisfied: certifi>=2017.4.17 in /usr/local/lib/python3.7/dist-packages (from requests<3,>=2.0.0->wandb) (2021.5.30)\n",
            "Requirement already satisfied: termcolor<2.0.0,>=1.1.0 in /usr/local/lib/python3.7/dist-packages (from yaspin>=1.0.0->wandb) (1.1.0)\n"
          ]
        },
        {
          "output_type": "display_data",
          "data": {
            "application/javascript": [
              "\n",
              "        window._wandbApiKey = new Promise((resolve, reject) => {\n",
              "            function loadScript(url) {\n",
              "            return new Promise(function(resolve, reject) {\n",
              "                let newScript = document.createElement(\"script\");\n",
              "                newScript.onerror = reject;\n",
              "                newScript.onload = resolve;\n",
              "                document.body.appendChild(newScript);\n",
              "                newScript.src = url;\n",
              "            });\n",
              "            }\n",
              "            loadScript(\"https://cdn.jsdelivr.net/npm/postmate/build/postmate.min.js\").then(() => {\n",
              "            const iframe = document.createElement('iframe')\n",
              "            iframe.style.cssText = \"width:0;height:0;border:none\"\n",
              "            document.body.appendChild(iframe)\n",
              "            const handshake = new Postmate({\n",
              "                container: iframe,\n",
              "                url: 'https://wandb.ai/authorize'\n",
              "            });\n",
              "            const timeout = setTimeout(() => reject(\"Couldn't auto authenticate\"), 5000)\n",
              "            handshake.then(function(child) {\n",
              "                child.on('authorize', data => {\n",
              "                    clearTimeout(timeout)\n",
              "                    resolve(data)\n",
              "                });\n",
              "            });\n",
              "            })\n",
              "        });\n",
              "    "
            ],
            "text/plain": [
              "<IPython.core.display.Javascript object>"
            ]
          },
          "metadata": {}
        },
        {
          "output_type": "stream",
          "name": "stderr",
          "text": [
            "\u001b[34m\u001b[1mwandb\u001b[0m: You can find your API key in your browser here: https://wandb.ai/authorize\n"
          ]
        },
        {
          "name": "stdout",
          "output_type": "stream",
          "text": [
            "wandb: Paste an API key from your profile and hit enter: ··········\n"
          ]
        },
        {
          "output_type": "stream",
          "name": "stderr",
          "text": [
            "\u001b[34m\u001b[1mwandb\u001b[0m: Appending key for api.wandb.ai to your netrc file: /root/.netrc\n"
          ]
        },
        {
          "output_type": "display_data",
          "data": {
            "text/html": [
              "\n",
              "                    Syncing run <strong><a href=\"https://wandb.ai/tbass134/cifar10-gan/runs/16o2wp5w\" target=\"_blank\">golden-donkey-1</a></strong> to <a href=\"https://wandb.ai/tbass134/cifar10-gan\" target=\"_blank\">Weights & Biases</a> (<a href=\"https://docs.wandb.com/integrations/jupyter.html\" target=\"_blank\">docs</a>).<br/>\n",
              "\n",
              "                "
            ],
            "text/plain": [
              "<IPython.core.display.HTML object>"
            ]
          },
          "metadata": {}
        }
      ]
    },
    {
      "cell_type": "code",
      "metadata": {
        "colab": {
          "base_uri": "https://localhost:8080/",
          "height": 716,
          "referenced_widgets": [
            "9ca7bcaf846841e19ae7b5f6167744de",
            "28c1aaa4e7bd4a8db85613e564461b35",
            "990c91c19ce34017a4dc69ad29677b8b",
            "aa46291362284ce6b2fe2cdc11f997d5",
            "cfeb6076c7ce42caaaf6a844cd1b4171",
            "a2679f62a4bc4c24b249dabe9e70fcb4",
            "1e48a3d2c182424f975db3e9a8521da7",
            "708bf2680a094fc3acb704e1f9e166de"
          ]
        },
        "id": "Vy2BbrHa7Dnt",
        "outputId": "25d32194-5d73-46a3-868a-0363d32a7115"
      },
      "source": [
        "!pip install wandb\n",
        "import wandb\n",
        "wandb.init(project='cifar10-gan', entity='tbass134')\n",
        "config = wandb.config"
      ],
      "execution_count": null,
      "outputs": [
        {
          "output_type": "stream",
          "name": "stdout",
          "text": [
            "Requirement already satisfied: wandb in /usr/local/lib/python3.7/dist-packages (0.12.4)\n",
            "Requirement already satisfied: subprocess32>=3.5.3 in /usr/local/lib/python3.7/dist-packages (from wandb) (3.5.4)\n",
            "Requirement already satisfied: promise<3,>=2.0 in /usr/local/lib/python3.7/dist-packages (from wandb) (2.3)\n",
            "Requirement already satisfied: shortuuid>=0.5.0 in /usr/local/lib/python3.7/dist-packages (from wandb) (1.0.1)\n",
            "Requirement already satisfied: requests<3,>=2.0.0 in /usr/local/lib/python3.7/dist-packages (from wandb) (2.23.0)\n",
            "Requirement already satisfied: docker-pycreds>=0.4.0 in /usr/local/lib/python3.7/dist-packages (from wandb) (0.4.0)\n",
            "Requirement already satisfied: yaspin>=1.0.0 in /usr/local/lib/python3.7/dist-packages (from wandb) (2.1.0)\n",
            "Requirement already satisfied: psutil>=5.0.0 in /usr/local/lib/python3.7/dist-packages (from wandb) (5.4.8)\n",
            "Requirement already satisfied: Click!=8.0.0,>=7.0 in /usr/local/lib/python3.7/dist-packages (from wandb) (7.1.2)\n",
            "Requirement already satisfied: configparser>=3.8.1 in /usr/local/lib/python3.7/dist-packages (from wandb) (5.0.2)\n",
            "Requirement already satisfied: pathtools in /usr/local/lib/python3.7/dist-packages (from wandb) (0.1.2)\n",
            "Requirement already satisfied: PyYAML in /usr/local/lib/python3.7/dist-packages (from wandb) (3.13)\n",
            "Requirement already satisfied: six>=1.13.0 in /usr/local/lib/python3.7/dist-packages (from wandb) (1.15.0)\n",
            "Requirement already satisfied: GitPython>=1.0.0 in /usr/local/lib/python3.7/dist-packages (from wandb) (3.1.24)\n",
            "Requirement already satisfied: protobuf>=3.12.0 in /usr/local/lib/python3.7/dist-packages (from wandb) (3.17.3)\n",
            "Requirement already satisfied: python-dateutil>=2.6.1 in /usr/local/lib/python3.7/dist-packages (from wandb) (2.8.2)\n",
            "Requirement already satisfied: sentry-sdk>=1.0.0 in /usr/local/lib/python3.7/dist-packages (from wandb) (1.4.3)\n",
            "Requirement already satisfied: typing-extensions>=3.7.4.3 in /usr/local/lib/python3.7/dist-packages (from GitPython>=1.0.0->wandb) (3.7.4.3)\n",
            "Requirement already satisfied: gitdb<5,>=4.0.1 in /usr/local/lib/python3.7/dist-packages (from GitPython>=1.0.0->wandb) (4.0.7)\n",
            "Requirement already satisfied: smmap<5,>=3.0.1 in /usr/local/lib/python3.7/dist-packages (from gitdb<5,>=4.0.1->GitPython>=1.0.0->wandb) (4.0.0)\n",
            "Requirement already satisfied: urllib3!=1.25.0,!=1.25.1,<1.26,>=1.21.1 in /usr/local/lib/python3.7/dist-packages (from requests<3,>=2.0.0->wandb) (1.24.3)\n",
            "Requirement already satisfied: idna<3,>=2.5 in /usr/local/lib/python3.7/dist-packages (from requests<3,>=2.0.0->wandb) (2.10)\n",
            "Requirement already satisfied: certifi>=2017.4.17 in /usr/local/lib/python3.7/dist-packages (from requests<3,>=2.0.0->wandb) (2021.5.30)\n",
            "Requirement already satisfied: chardet<4,>=3.0.2 in /usr/local/lib/python3.7/dist-packages (from requests<3,>=2.0.0->wandb) (3.0.4)\n",
            "Requirement already satisfied: termcolor<2.0.0,>=1.1.0 in /usr/local/lib/python3.7/dist-packages (from yaspin>=1.0.0->wandb) (1.1.0)\n"
          ]
        },
        {
          "output_type": "display_data",
          "data": {
            "text/html": [
              "Finishing last run (ID:16o2wp5w) before initializing another..."
            ],
            "text/plain": [
              "<IPython.core.display.HTML object>"
            ]
          },
          "metadata": {}
        },
        {
          "output_type": "display_data",
          "data": {
            "text/html": [
              "<br/>Waiting for W&B process to finish, PID 504... <strong style=\"color:green\">(success).</strong>"
            ],
            "text/plain": [
              "<IPython.core.display.HTML object>"
            ]
          },
          "metadata": {}
        },
        {
          "output_type": "display_data",
          "data": {
            "application/vnd.jupyter.widget-view+json": {
              "model_id": "9ca7bcaf846841e19ae7b5f6167744de",
              "version_minor": 0,
              "version_major": 2
            },
            "text/plain": [
              "VBox(children=(Label(value=' 7.25MB of 7.25MB uploaded (0.00MB deduped)\\r'), FloatProgress(value=1.0, max=1.0)…"
            ]
          },
          "metadata": {}
        },
        {
          "output_type": "display_data",
          "data": {
            "text/html": [
              "<style>\n",
              "    table.wandb td:nth-child(1) { padding: 0 10px; text-align: right }\n",
              "    .wandb-row { display: flex; flex-direction: row; flex-wrap: wrap; width: 100% }\n",
              "    .wandb-col { display: flex; flex-direction: column; flex-basis: 100%; flex: 1; padding: 10px; }\n",
              "    </style>\n",
              "<div class=\"wandb-row\"><div class=\"wandb-col\">\n",
              "<h3>Run history:</h3><br/><table class=\"wandb\"><tr><td>loss_d</td><td>█▁▁▃▂▂▂▃▂▅▄▄▃▃▅▂▆▂▅▄▅▅▅▅▄▅▅▅▅▅▅▆▄▅▅▆▅▃▅▄</td></tr><tr><td>loss_g</td><td>▁▇▆▃█▅▄▄▄▅▄▇█▅▃▅▃▅▅▇▃▂▃▄▄▃▃▃▃▃▄▂▃▂▄▃▃▄▃▃</td></tr></table><br/></div><div class=\"wandb-col\">\n",
              "<h3>Run summary:</h3><br/><table class=\"wandb\"><tr><td>loss_d</td><td>0.27231</td></tr><tr><td>loss_g</td><td>2.83241</td></tr></table>\n",
              "</div></div>\n",
              "Synced 5 W&B file(s), 100 media file(s), 0 artifact file(s) and 0 other file(s)\n",
              "<br/>Synced <strong style=\"color:#cdcd00\">golden-donkey-1</strong>: <a href=\"https://wandb.ai/tbass134/cifar10-gan/runs/16o2wp5w\" target=\"_blank\">https://wandb.ai/tbass134/cifar10-gan/runs/16o2wp5w</a><br/>\n",
              "Find logs at: <code>./wandb/run-20211015_170719-16o2wp5w/logs</code><br/>\n"
            ],
            "text/plain": [
              "<IPython.core.display.HTML object>"
            ]
          },
          "metadata": {}
        },
        {
          "output_type": "display_data",
          "data": {
            "text/html": [
              "Successfully finished last run (ID:16o2wp5w). Initializing new run:<br/>"
            ],
            "text/plain": [
              "<IPython.core.display.HTML object>"
            ]
          },
          "metadata": {}
        },
        {
          "output_type": "display_data",
          "data": {
            "text/html": [
              "\n",
              "                    Syncing run <strong><a href=\"https://wandb.ai/tbass134/cifar10-gan/runs/2t70zwic\" target=\"_blank\">smooth-voice-2</a></strong> to <a href=\"https://wandb.ai/tbass134/cifar10-gan\" target=\"_blank\">Weights & Biases</a> (<a href=\"https://docs.wandb.com/integrations/jupyter.html\" target=\"_blank\">docs</a>).<br/>\n",
              "\n",
              "                "
            ],
            "text/plain": [
              "<IPython.core.display.HTML object>"
            ]
          },
          "metadata": {}
        }
      ]
    },
    {
      "cell_type": "code",
      "metadata": {
        "colab": {
          "base_uri": "https://localhost:8080/"
        },
        "id": "UVOL13oGxMl7",
        "outputId": "df639f30-481c-4c84-ce2e-3cd278bc0394"
      },
      "source": [
        "%xmode verbose\n",
        "%pdb off"
      ],
      "execution_count": null,
      "outputs": [
        {
          "output_type": "stream",
          "name": "stdout",
          "text": [
            "Exception reporting mode: Verbose\n",
            "Automatic pdb calling has been turned OFF\n"
          ]
        }
      ]
    },
    {
      "cell_type": "code",
      "metadata": {
        "id": "IIkIgW1t4wbg"
      },
      "source": [
        "class Discriminator(nn.Module):\n",
        "  def __init__(self, img_dim):\n",
        "    super().__init__()\n",
        "    self.d = nn.Sequential(\n",
        "        nn.Linear(img_dim, 1024 ),\n",
        "        nn.LeakyReLU(0.1),\n",
        "\n",
        "        nn.Linear(1024,512),\n",
        "        nn.LeakyReLU(0.1),\n",
        "\n",
        "        nn.Linear(512,256),\n",
        "        nn.LeakyReLU(0.1),\n",
        "\n",
        "        nn.Linear(256,128),\n",
        "        nn.LeakyReLU(0.1),\n",
        "\n",
        "        nn.Linear(128,1),\n",
        "\n",
        "        nn.Sigmoid()\n",
        "    )\n",
        "  def forward(self, x):\n",
        "    return self.d(x)\n",
        "\n",
        "class Generator(nn.Module):\n",
        "  def __init__(self, z_dim, img_dim):\n",
        "    super().__init__()\n",
        "    self.g = nn.Sequential(\n",
        "        nn.Linear(z_dim, 1024),\n",
        "        nn.ReLU(0.1),\n",
        "        nn.Linear(1024, 512),\n",
        "        nn.ReLU(0.1),\n",
        "        nn.Linear(512, 256),\n",
        "        nn.ReLU(0.1),\n",
        "        nn.Linear(256, 128),\n",
        "        nn.ReLU(0.1),\n",
        "        nn.Linear(128, img_dim), # 28x28x1 -> 784\n",
        "        nn.Tanh()\n",
        "    )\n",
        "\n",
        "  def forward(self, x):\n",
        "    return self.g(x)"
      ],
      "execution_count": null,
      "outputs": []
    },
    {
      "cell_type": "code",
      "metadata": {
        "id": "bVEkPD9qCNpu"
      },
      "source": [
        "import matplotlib.pyplot as plt\n",
        "import numpy as np\n",
        "\n",
        "def show_img(t, filename):\n",
        "  npimg = t.cpu().numpy()\n",
        "  plt.imshow(np.transpose(npimg, (1, 2, 0)), interpolation='nearest')\n",
        "  plt.savefig(f'{filename}.png')"
      ],
      "execution_count": null,
      "outputs": []
    },
    {
      "cell_type": "code",
      "metadata": {
        "id": "I16Hl4Mu1hXH"
      },
      "source": [
        ""
      ],
      "execution_count": null,
      "outputs": []
    },
    {
      "cell_type": "code",
      "metadata": {
        "colab": {
          "base_uri": "https://localhost:8080/"
        },
        "id": "yjMrhUY-uNSl",
        "outputId": "770abfb9-7910-43e4-ee64-88e1d4b05f09"
      },
      "source": [
        "tfs = transforms.Compose(\n",
        "    [transforms.ToTensor(),\n",
        "     transforms.Normalize( (0.4914, 0.4822, 0.4465), (0.247, 0.243, 0.261))])\n",
        "dset = datasets.CIFAR10(root='.', train=True,download=True, transform=tfs)\n",
        "\n",
        "config.img_height = 32\n",
        "config.img_width = 32\n",
        "config.img_channel = 3\n",
        "\n",
        "config.batch_size = 32\n",
        "\n",
        "len(dset)\n"
      ],
      "execution_count": null,
      "outputs": [
        {
          "output_type": "stream",
          "name": "stdout",
          "text": [
            "Files already downloaded and verified\n"
          ]
        },
        {
          "output_type": "execute_result",
          "data": {
            "text/plain": [
              "50000"
            ]
          },
          "metadata": {},
          "execution_count": 22
        }
      ]
    },
    {
      "cell_type": "code",
      "metadata": {
        "id": "kEBWSMQH6G1D",
        "colab": {
          "base_uri": "https://localhost:8080/"
        },
        "outputId": "3cd263d2-7348-4244-cfb7-367062ca797b"
      },
      "source": [
        "\n",
        "device = \"cuda\" if torch.cuda.is_available() else \"cpu\"\n",
        "\n",
        "config.lr = 3e-4\n",
        "config.z_dim = 100\n",
        "config.num_epochs = 50\n",
        "config.img_dim = config.img_height * config.img_width * config.img_channel\n",
        "\n",
        "disc = Discriminator(config.img_dim).to(device)\n",
        "gen = Generator(config.z_dim, config.img_dim).to(device)\n",
        "\n",
        "fixed_noise = torch.randn((config.batch_size, config.z_dim)).to(device)\n",
        "\n",
        "loader = DataLoader(dset, batch_size=config.batch_size, shuffle=True)\n",
        "opt_discriminator = optim.Adam(disc.parameters(), lr=config.lr)\n",
        "opt_generator = optim.Adam(gen.parameters(), lr=config.lr)\n",
        "criterion = nn.BCELoss()\n",
        "\n",
        "step = 0\n",
        "\n",
        "for epoch in range(config.num_epochs):\n",
        "  for batch_idx, (real_images, real_labels) in enumerate(loader):\n",
        "    real_images = real_images.view(-1, config.img_channel * config.img_height * config.img_width).to(device) #flatten\n",
        "    batch_size = real_images.shape[0]\n",
        "    # train descriminator\n",
        "\n",
        "    #generate noise\n",
        "    noise = torch.randn(config.batch_size, config.z_dim).to(device)\n",
        "    fake_images = gen(noise)\n",
        "\n",
        "    d_real = disc(real_images).view(-1)\n",
        "    loss_d_real = criterion(d_real, torch.ones_like(d_real))\n",
        "\n",
        "    d_fake = disc(fake_images.detach()).view(-1) #save fake_images in order to be reused againb\n",
        "    loss_d_fake = criterion(d_fake, torch.zeros_like(d_fake))\n",
        "\n",
        "    loss_d = (loss_d_real + loss_d_fake) / 2\n",
        "    disc.zero_grad()\n",
        "\n",
        "    loss_d.backward()\n",
        "    opt_discriminator.step()\n",
        "\n",
        "\n",
        "    # train Generator\n",
        "    #min log(1 - D(G(z))) <--> max log(D(G(z)))\n",
        "\n",
        "    output = disc(fake_images).view(-1)\n",
        "    loss_g = criterion(output, torch.ones_like(output))\n",
        "    gen.zero_grad()\n",
        "    loss_g.backward()\n",
        "    opt_generator.step()\n",
        "\n",
        "    if batch_idx == 0:\n",
        "          wandb.log({\"loss_d\": loss_d, \"loss_g\":loss_g})\n",
        "          print(\n",
        "              f\"Epoch [{epoch}/{config.num_epochs}] Batch {batch_idx}/{len(loader)} \\\n",
        "                    Loss D: {loss_d:.4f}, loss G: {loss_g:.4f}\"\n",
        "          )\n",
        "\n",
        "          with torch.no_grad():\n",
        "              fake = gen(fixed_noise).reshape(-1, config.img_channel, config.img_height, config.img_width)\n",
        "              data = real_images.reshape(-1, config.img_channel, config.img_height, config.img_width)\n",
        "              \n",
        "              img_grid_fake = torchvision.utils.make_grid(fake, normalize=True)\n",
        "              img_grid_real = torchvision.utils.make_grid(data, normalize=True) \n",
        "\n",
        "              wandb.log({\"fake_images\": wandb.Image(img_grid_fake)})\n",
        "              wandb.log({\"real_images\": wandb.Image(img_grid_real)})\n",
        "\n",
        "\n",
        "              step += 1\n",
        "  "
      ],
      "execution_count": null,
      "outputs": [
        {
          "output_type": "stream",
          "name": "stdout",
          "text": [
            "Epoch [0/50] Batch 0/1563                     Loss D: 0.6935, loss G: 0.7305\n",
            "Epoch [1/50] Batch 0/1563                     Loss D: 0.0965, loss G: 5.8390\n",
            "Epoch [2/50] Batch 0/1563                     Loss D: 0.0086, loss G: 4.5452\n",
            "Epoch [3/50] Batch 0/1563                     Loss D: 0.0294, loss G: 7.1543\n",
            "Epoch [4/50] Batch 0/1563                     Loss D: 0.0188, loss G: 6.0301\n",
            "Epoch [5/50] Batch 0/1563                     Loss D: 0.0323, loss G: 4.1180\n",
            "Epoch [6/50] Batch 0/1563                     Loss D: 0.0274, loss G: 5.7950\n",
            "Epoch [7/50] Batch 0/1563                     Loss D: 0.1328, loss G: 4.2625\n",
            "Epoch [8/50] Batch 0/1563                     Loss D: 0.0745, loss G: 4.3964\n",
            "Epoch [9/50] Batch 0/1563                     Loss D: 0.1114, loss G: 4.3521\n",
            "Epoch [10/50] Batch 0/1563                     Loss D: 0.0635, loss G: 4.2178\n",
            "Epoch [11/50] Batch 0/1563                     Loss D: 0.0262, loss G: 5.0075\n",
            "Epoch [12/50] Batch 0/1563                     Loss D: 0.0513, loss G: 4.9359\n",
            "Epoch [13/50] Batch 0/1563                     Loss D: 0.1572, loss G: 3.1567\n",
            "Epoch [14/50] Batch 0/1563                     Loss D: 0.1038, loss G: 4.7437\n",
            "Epoch [15/50] Batch 0/1563                     Loss D: 0.1433, loss G: 3.6779\n",
            "Epoch [16/50] Batch 0/1563                     Loss D: 0.2087, loss G: 2.7386\n",
            "Epoch [17/50] Batch 0/1563                     Loss D: 0.1551, loss G: 3.5854\n",
            "Epoch [18/50] Batch 0/1563                     Loss D: 0.1482, loss G: 3.6493\n",
            "Epoch [19/50] Batch 0/1563                     Loss D: 0.2847, loss G: 3.6572\n",
            "Epoch [20/50] Batch 0/1563                     Loss D: 0.2282, loss G: 3.0344\n",
            "Epoch [21/50] Batch 0/1563                     Loss D: 0.2223, loss G: 3.0686\n",
            "Epoch [22/50] Batch 0/1563                     Loss D: 0.2144, loss G: 3.1720\n",
            "Epoch [23/50] Batch 0/1563                     Loss D: 0.1792, loss G: 3.5271\n",
            "Epoch [24/50] Batch 0/1563                     Loss D: 0.1006, loss G: 3.6412\n",
            "Epoch [25/50] Batch 0/1563                     Loss D: 0.1823, loss G: 2.8438\n",
            "Epoch [26/50] Batch 0/1563                     Loss D: 0.1485, loss G: 2.9308\n",
            "Epoch [27/50] Batch 0/1563                     Loss D: 0.1967, loss G: 4.1962\n",
            "Epoch [28/50] Batch 0/1563                     Loss D: 0.0960, loss G: 4.0927\n",
            "Epoch [29/50] Batch 0/1563                     Loss D: 0.1679, loss G: 3.4169\n",
            "Epoch [30/50] Batch 0/1563                     Loss D: 0.0870, loss G: 5.4309\n",
            "Epoch [31/50] Batch 0/1563                     Loss D: 0.1551, loss G: 4.0859\n",
            "Epoch [32/50] Batch 0/1563                     Loss D: 0.1225, loss G: 3.9116\n",
            "Epoch [33/50] Batch 0/1563                     Loss D: 0.0938, loss G: 3.9068\n",
            "Epoch [34/50] Batch 0/1563                     Loss D: 0.1080, loss G: 3.8207\n",
            "Epoch [35/50] Batch 0/1563                     Loss D: 0.1738, loss G: 4.2959\n",
            "Epoch [36/50] Batch 0/1563                     Loss D: 0.1828, loss G: 3.4041\n",
            "Epoch [37/50] Batch 0/1563                     Loss D: 0.0768, loss G: 5.1159\n",
            "Epoch [38/50] Batch 0/1563                     Loss D: 0.0624, loss G: 3.7665\n",
            "Epoch [39/50] Batch 0/1563                     Loss D: 0.0464, loss G: 5.1397\n",
            "Epoch [40/50] Batch 0/1563                     Loss D: 0.0876, loss G: 4.3927\n",
            "Epoch [41/50] Batch 0/1563                     Loss D: 0.1178, loss G: 4.0513\n",
            "Epoch [42/50] Batch 0/1563                     Loss D: 0.1942, loss G: 4.2602\n",
            "Epoch [43/50] Batch 0/1563                     Loss D: 0.0636, loss G: 5.1385\n",
            "Epoch [44/50] Batch 0/1563                     Loss D: 0.0766, loss G: 4.1465\n",
            "Epoch [45/50] Batch 0/1563                     Loss D: 0.0277, loss G: 5.0795\n",
            "Epoch [46/50] Batch 0/1563                     Loss D: 0.0351, loss G: 5.3156\n",
            "Epoch [47/50] Batch 0/1563                     Loss D: 0.1268, loss G: 3.6403\n",
            "Epoch [48/50] Batch 0/1563                     Loss D: 0.0791, loss G: 5.4852\n",
            "Epoch [49/50] Batch 0/1563                     Loss D: 0.1386, loss G: 4.7459\n"
          ]
        }
      ]
    },
    {
      "cell_type": "code",
      "metadata": {
        "id": "TNZuouy2T7u-"
      },
      "source": [
        ""
      ],
      "execution_count": null,
      "outputs": []
    }
  ]
}